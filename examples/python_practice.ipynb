{
 "cells": [
  {
   "cell_type": "code",
   "execution_count": 1,
   "id": "62ba1292-3e8d-4767-b85b-9b9e3e01f399",
   "metadata": {},
   "outputs": [
    {
     "name": "stdout",
     "output_type": "stream",
     "text": [
      "ENter your name : \n"
     ]
    },
    {
     "name": "stdin",
     "output_type": "stream",
     "text": [
      " Mona\n"
     ]
    },
    {
     "data": {
      "text/plain": [
       "'Mona'"
      ]
     },
     "execution_count": 1,
     "metadata": {},
     "output_type": "execute_result"
    }
   ],
   "source": [
    "print(\"ENter your name : \")\n",
    "input()"
   ]
  },
  {
   "cell_type": "code",
   "execution_count": 2,
   "id": "3c72e373-9ac4-4fa0-ba6d-d80939e39a7e",
   "metadata": {},
   "outputs": [
    {
     "name": "stdin",
     "output_type": "stream",
     "text": [
      "What is yours name ? Mona\n"
     ]
    },
    {
     "data": {
      "text/plain": [
       "'Mona'"
      ]
     },
     "execution_count": 2,
     "metadata": {},
     "output_type": "execute_result"
    }
   ],
   "source": [
    "input(\"What is yours name ?\")\n"
   ]
  },
  {
   "cell_type": "code",
   "execution_count": 3,
   "id": "5f89cecc-df9d-4017-9fdd-dda803c093b8",
   "metadata": {},
   "outputs": [
    {
     "name": "stdin",
     "output_type": "stream",
     "text": [
      "What is your name ? \n",
      " Mona Thakur\n"
     ]
    },
    {
     "name": "stdout",
     "output_type": "stream",
     "text": [
      "your name is :  Mona Thakur\n"
     ]
    }
   ],
   "source": [
    "name = input(\"What is your name ? \\n\")\n",
    "print(\"your name is : \",name)"
   ]
  },
  {
   "cell_type": "code",
   "execution_count": 4,
   "id": "a3fb14a2-291f-46d8-a285-068c655a359f",
   "metadata": {},
   "outputs": [
    {
     "name": "stdin",
     "output_type": "stream",
     "text": [
      "What's ypur name ?   Mona\n"
     ]
    },
    {
     "name": "stdout",
     "output_type": "stream",
     "text": [
      "Hello ,Mona\n"
     ]
    }
   ],
   "source": [
    " name=input(\"What's ypur name ?  \" )\n",
    "print(\"Hello \",end=',')\n",
    "print(name)\n",
    "           "
   ]
  },
  {
   "cell_type": "code",
   "execution_count": 5,
   "id": "9dbd7999-d4ec-4553-ada0-25fa33cf7e2b",
   "metadata": {},
   "outputs": [
    {
     "name": "stdin",
     "output_type": "stream",
     "text": [
      "What's ypur name ?   Mona\n"
     ]
    },
    {
     "name": "stdout",
     "output_type": "stream",
     "text": [
      "Hello  Mona\n"
     ]
    }
   ],
   "source": [
    "name=input(\"What's ypur name ?  \" )\n",
    "print(\"Hello \",name)"
   ]
  },
  {
   "cell_type": "code",
   "execution_count": 9,
   "id": "46c4c009-66fc-4888-8ff5-957933c33fa6",
   "metadata": {},
   "outputs": [
    {
     "name": "stdin",
     "output_type": "stream",
     "text": [
      "So what's ur name ? \n",
      " Mona\n"
     ]
    },
    {
     "name": "stdout",
     "output_type": "stream",
     "text": [
      "Hello, Mona\n"
     ]
    }
   ],
   "source": [
    "# Ask user's name\n",
    "name=input(\"So what's ur name ? \\n\")\n",
    "#Sy hello to user\n",
    "print(\"Hello, \", name, end=\"??\")\n",
    "#or\n",
    "print(\"Hello, \" +name, sep=\"??\")"
   ]
  },
  {
   "cell_type": "code",
   "execution_count": 10,
   "id": "601f2d22-8818-4bb0-a9a8-a76a92181d50",
   "metadata": {},
   "outputs": [
    {
     "name": "stdout",
     "output_type": "stream",
     "text": [
      "Heloo,\"friend\"\n"
     ]
    }
   ],
   "source": [
    "print(\"Heloo,\\\"friend\\\"\")"
   ]
  },
  {
   "cell_type": "code",
   "execution_count": 11,
   "id": "c6097319-c5c5-4b2b-afe1-2cc063531aaf",
   "metadata": {},
   "outputs": [
    {
     "name": "stdin",
     "output_type": "stream",
     "text": [
      "What's ur name ?\n",
      " Mona\n"
     ]
    },
    {
     "name": "stdout",
     "output_type": "stream",
     "text": [
      "Hello,{name}\n"
     ]
    }
   ],
   "source": [
    "name= input(\"What's ur name ?\\n\")\n",
    "print(\"Hello,{name}\")"
   ]
  },
  {
   "cell_type": "code",
   "execution_count": 12,
   "id": "0efdad01-f848-4ba2-81cf-8a13b28aeb62",
   "metadata": {},
   "outputs": [
    {
     "name": "stdin",
     "output_type": "stream",
     "text": [
      "What's ur name ?\n",
      " Mona\n"
     ]
    },
    {
     "name": "stdout",
     "output_type": "stream",
     "text": [
      "Hello,Mona\n"
     ]
    }
   ],
   "source": [
    "name= input(\"What's ur name ?\\n\")\n",
    "print(f\"Hello,{name}\")"
   ]
  },
  {
   "cell_type": "code",
   "execution_count": 14,
   "id": "f696ea2f-d296-4cb4-b073-60a89d4fe833",
   "metadata": {},
   "outputs": [
    {
     "name": "stdin",
     "output_type": "stream",
     "text": [
      "What's ur name ?\n",
      "        Mona\n"
     ]
    },
    {
     "name": "stdout",
     "output_type": "stream",
     "text": [
      "Hello,Mona\n"
     ]
    }
   ],
   "source": [
    "#Remove white space using (str)\n",
    "\n",
    "name= input(\"What's ur name ?\\n\")\n",
    "name = name.strip()\n",
    "print(f\"Hello,{name}\")\n"
   ]
  },
  {
   "cell_type": "code",
   "execution_count": 17,
   "id": "e917912d-ea63-4909-addc-db9168bb9744",
   "metadata": {},
   "outputs": [
    {
     "name": "stdin",
     "output_type": "stream",
     "text": [
      "What's ur name ?\n",
      " mona thakur\n"
     ]
    },
    {
     "name": "stdout",
     "output_type": "stream",
     "text": [
      "Hello,Mona thakur\n"
     ]
    }
   ],
   "source": [
    "# Captalize first letter\n",
    "name= input(\"What's ur name ?\\n\")\n",
    "name=name.capitalize()\n",
    "print(f\"Hello,{name}\")"
   ]
  },
  {
   "cell_type": "code",
   "execution_count": 19,
   "id": "dc4582b9-b230-40da-b9db-2f7fd22291fb",
   "metadata": {},
   "outputs": [
    {
     "name": "stdin",
     "output_type": "stream",
     "text": [
      "What's ur name ?\n",
      " mona ranjeet thakur\n"
     ]
    },
    {
     "name": "stdout",
     "output_type": "stream",
     "text": [
      "Hello,Mona Ranjeet Thakur\n"
     ]
    }
   ],
   "source": [
    "#capitalize first al well as rest of the next word\n",
    "name= input(\"What's ur name ?\\n\")\n",
    "name = name.title()\n",
    "print(f\"Hello,{name}\")\n"
   ]
  },
  {
   "cell_type": "code",
   "execution_count": 23,
   "id": "44736af3-eaf1-4332-8f88-5415a20762a0",
   "metadata": {},
   "outputs": [
    {
     "name": "stdin",
     "output_type": "stream",
     "text": [
      "What's ur name ?\n",
      "      mona thakur\n"
     ]
    },
    {
     "name": "stdout",
     "output_type": "stream",
     "text": [
      "Hello,Mona Thakur\n"
     ]
    }
   ],
   "source": [
    "#Remove white space as well as capatilize your word\n",
    "\n",
    "name= input(\"What's ur name ?\\n\")\n",
    "name = name.title().strip()\n",
    "print(f\"Hello,{name}\")"
   ]
  },
  {
   "cell_type": "code",
   "execution_count": 24,
   "id": "e4b87c38-bf97-4a09-ab04-36f629d0cde8",
   "metadata": {},
   "outputs": [
    {
     "name": "stdin",
     "output_type": "stream",
     "text": [
      "What's ur name ?\n",
      "    mona thkaur\n"
     ]
    },
    {
     "name": "stdout",
     "output_type": "stream",
     "text": [
      "Hello,Mona Thkaur\n"
     ]
    }
   ],
   "source": [
    "name= input(\"What's ur name ?\\n\").title().strip()\n",
    " \n",
    "print(f\"Hello,{name}\")"
   ]
  },
  {
   "cell_type": "code",
   "execution_count": 27,
   "id": "79580816-4ebc-496e-a8ee-607130fe1ac4",
   "metadata": {},
   "outputs": [
    {
     "name": "stdin",
     "output_type": "stream",
     "text": [
      "What's ur name ?\n",
      " mona thakur\n"
     ]
    },
    {
     "name": "stdout",
     "output_type": "stream",
     "text": [
      "your first name is :Mona\n"
     ]
    }
   ],
   "source": [
    "#Split ur anme into first name and last name\n",
    "name= input(\"What's ur name ?\\n\").title().strip()\n",
    "first,last = name.split(\" \")\n",
    "print(f\"your first name is :{first}\")\n"
   ]
  },
  {
   "cell_type": "code",
   "execution_count": 32,
   "id": "a182c3f7-4a73-43a2-b9cd-ed7f4b48229f",
   "metadata": {},
   "outputs": [
    {
     "name": "stdout",
     "output_type": "stream",
     "text": [
      "sum of 1 and 56 is : 57\n"
     ]
    }
   ],
   "source": [
    "x=1 \n",
    "y=56\n",
    "\n",
    "z=x+y\n",
    "\n",
    "print(\"sum of\",x, \"and\",y , \"is :\",z)"
   ]
  },
  {
   "cell_type": "code",
   "execution_count": 33,
   "id": "c5ade5b3-c815-4546-93ec-79250fa08306",
   "metadata": {},
   "outputs": [
    {
     "name": "stdin",
     "output_type": "stream",
     "text": [
      "Enter value of x :\n",
      " 2\n",
      "Enter value of y :\n",
      " 4\n"
     ]
    },
    {
     "name": "stdout",
     "output_type": "stream",
     "text": [
      "24\n"
     ]
    }
   ],
   "source": [
    "#take value from user\n",
    "\n",
    "x=input(\"Enter value of x :\\n\")\n",
    "y=input(\"Enter value of y :\\n\")\n",
    "print(x+y)"
   ]
  },
  {
   "cell_type": "code",
   "execution_count": 34,
   "id": "4a0658b2-eb5d-4c87-ba63-36741888e8d4",
   "metadata": {},
   "outputs": [
    {
     "name": "stdin",
     "output_type": "stream",
     "text": [
      "Enter value of x :\n",
      " 3\n",
      "Enter value of y :\n",
      " 4\n"
     ]
    },
    {
     "name": "stdout",
     "output_type": "stream",
     "text": [
      "34\n"
     ]
    }
   ],
   "source": [
    "x=input(\"Enter value of x :\\n\")\n",
    "y=input(\"Enter value of y :\\n\")\n",
    "z=x+y\n",
    "print(z)"
   ]
  },
  {
   "cell_type": "code",
   "execution_count": 35,
   "id": "d5283ee7-c48f-451a-9110-7417ad199923",
   "metadata": {},
   "outputs": [
    {
     "name": "stdin",
     "output_type": "stream",
     "text": [
      "Enter value of x :\n",
      " 2\n",
      "Enter value of y :\n",
      " 3\n"
     ]
    },
    {
     "name": "stdout",
     "output_type": "stream",
     "text": [
      "5\n"
     ]
    }
   ],
   "source": [
    "x=int(input(\"Enter value of x :\\n\"))\n",
    "y=int(input(\"Enter value of y :\\n\"))\n",
    "z=x+y\n",
    "print(z)"
   ]
  },
  {
   "cell_type": "code",
   "execution_count": 37,
   "id": "f7d541bc-a0e7-4364-ae28-1a0e56f4c2e7",
   "metadata": {},
   "outputs": [
    {
     "name": "stdin",
     "output_type": "stream",
     "text": [
      "Enter value of x :\n",
      " 23\n",
      "Enter value of y :\n",
      " 23\n"
     ]
    },
    {
     "name": "stdout",
     "output_type": "stream",
     "text": [
      "Sum of x and y is :  46\n"
     ]
    }
   ],
   "source": [
    "print(\"Sum of x and y is : \",int(input(\"Enter value of x :\\n\")) + int(input(\"Enter value of y :\\n\")))"
   ]
  },
  {
   "cell_type": "code",
   "execution_count": 38,
   "id": "73d4b693-f7bc-488a-9c03-80b4902910a1",
   "metadata": {},
   "outputs": [
    {
     "name": "stdin",
     "output_type": "stream",
     "text": [
      "Enter value of x :\n",
      " 23.34\n",
      "Enter value of y :\n",
      " 34.4566\n"
     ]
    },
    {
     "name": "stdout",
     "output_type": "stream",
     "text": [
      "Sum of x and y is :  57.7966\n"
     ]
    }
   ],
   "source": [
    "print(\"Sum of x and y is : \",float(input(\"Enter value of x :\\n\")) + float(input(\"Enter value of y :\\n\")))"
   ]
  },
  {
   "cell_type": "code",
   "execution_count": 39,
   "id": "c598f6fd-3c75-4f62-95c1-9e6fff7dc5d0",
   "metadata": {},
   "outputs": [
    {
     "name": "stdin",
     "output_type": "stream",
     "text": [
      "Enter value of x :\n",
      " 2\n",
      "Enter value of y :\n",
      " 3\n"
     ]
    },
    {
     "name": "stdout",
     "output_type": "stream",
     "text": [
      "Sum of x and y is :  0.6666666666666666\n"
     ]
    }
   ],
   "source": [
    "print(\"Sum of x and y is : \",float(input(\"Enter value of x :\\n\")) / float(input(\"Enter value of y :\\n\")))"
   ]
  },
  {
   "cell_type": "code",
   "execution_count": 41,
   "id": "9f22ea95-6ca7-4734-80c1-bdc1c4cdf2d9",
   "metadata": {},
   "outputs": [
    {
     "name": "stdin",
     "output_type": "stream",
     "text": [
      "Enter value of x :\n",
      " 34.4\n",
      "Enter value of y :\n",
      " 34.56\n"
     ]
    },
    {
     "name": "stdout",
     "output_type": "stream",
     "text": [
      "69\n"
     ]
    }
   ],
   "source": [
    "x=float(input(\"Enter value of x :\\n\"))\n",
    "y=float(input(\"Enter value of y :\\n\"))\n",
    "\n",
    "z=round(x+y)  #gives round off value\n",
    "print(z)"
   ]
  },
  {
   "cell_type": "code",
   "execution_count": 42,
   "id": "05f78f0d-9fcb-456e-9365-8ccc866005ca",
   "metadata": {},
   "outputs": [
    {
     "name": "stdin",
     "output_type": "stream",
     "text": [
      "Enter value of x :\n",
      " 2\n",
      "Enter value of y :\n",
      " 3\n"
     ]
    },
    {
     "name": "stdout",
     "output_type": "stream",
     "text": [
      "0.6666666666666666\n"
     ]
    }
   ],
   "source": [
    "x=float(input(\"Enter value of x :\\n\"))\n",
    "y=float(input(\"Enter value of y :\\n\"))\n",
    "\n",
    "z= x/y  \n",
    "print(z)"
   ]
  },
  {
   "cell_type": "code",
   "execution_count": 48,
   "id": "b0da2763-b910-4fef-a355-1656888eca85",
   "metadata": {},
   "outputs": [
    {
     "name": "stdin",
     "output_type": "stream",
     "text": [
      "Enter value of x :\n",
      " 23534543\n",
      "Enter value of y :\n",
      " 3243545\n"
     ]
    },
    {
     "name": "stdout",
     "output_type": "stream",
     "text": [
      "76,335,349,274,935\n"
     ]
    }
   ],
   "source": [
    "x=int(input(\"Enter value of x :\\n\"))\n",
    "y=int(input(\"Enter value of y :\\n\"))\n",
    "\n",
    "z= x*y  \n",
    "print(f\"{z:,}\")"
   ]
  },
  {
   "cell_type": "code",
   "execution_count": 51,
   "id": "17122360-8354-4cb5-95f1-113d2d957741",
   "metadata": {},
   "outputs": [
    {
     "name": "stdin",
     "output_type": "stream",
     "text": [
      "Enter value of x :\n",
      " 23\n",
      "Enter value of y :\n",
      " 32\n"
     ]
    },
    {
     "name": "stdout",
     "output_type": "stream",
     "text": [
      "0.718750\n"
     ]
    }
   ],
   "source": [
    "x=float(input(\"Enter value of x :\\n\"))\n",
    "y=float(input(\"Enter value of y :\\n\"))\n",
    "\n",
    "z= x/y  \n",
    "print(f\"{z:2f}\")"
   ]
  },
  {
   "cell_type": "code",
   "execution_count": 56,
   "id": "d10ca4a1-1cbc-4e06-a536-98f419a54b60",
   "metadata": {},
   "outputs": [
    {
     "name": "stdin",
     "output_type": "stream",
     "text": [
      "What's ur name ?? mona thakur\n"
     ]
    },
    {
     "name": "stdout",
     "output_type": "stream",
     "text": [
      "Hiiiiiee\n",
      "mona thakur\n"
     ]
    }
   ],
   "source": [
    "#-----Funtion and methods------\n",
    "\n",
    "\n",
    "def hello():\n",
    "    print(\"Hiiiiiee\")\n",
    "\n",
    "name = input(\"What's ur name ??\")\n",
    "#calling function hello which e have decleared at first\n",
    "hello()\n",
    "print(name)"
   ]
  },
  {
   "cell_type": "code",
   "execution_count": 57,
   "id": "c546a0c3-3deb-4503-83e6-abc232f6e041",
   "metadata": {},
   "outputs": [
    {
     "name": "stdin",
     "output_type": "stream",
     "text": [
      "What's ur name ?? mona thakur\n"
     ]
    },
    {
     "name": "stdout",
     "output_type": "stream",
     "text": [
      "Hii mona thakur\n"
     ]
    }
   ],
   "source": [
    "#with parameter\n",
    "\n",
    "def hello(to):\n",
    "    print(\"Hii\",to)\n",
    "\n",
    "name = input(\"What's ur name ??\")\n",
    "hello(name)\n"
   ]
  },
  {
   "cell_type": "code",
   "execution_count": 60,
   "id": "4b216732-ddc7-466b-8dfd-d7f63d22d07d",
   "metadata": {},
   "outputs": [
    {
     "name": "stdout",
     "output_type": "stream",
     "text": [
      "Hiieee ,  world\n"
     ]
    },
    {
     "name": "stdin",
     "output_type": "stream",
     "text": [
      "What's ur name ?? mona\n"
     ]
    },
    {
     "name": "stdout",
     "output_type": "stream",
     "text": [
      "Hiieee ,  mona\n"
     ]
    }
   ],
   "source": [
    "\n",
    "def hello(to=\"world\"):\n",
    "    print(\"Hiieee , \",to)\n",
    "\n",
    "hello()\n",
    "\n",
    "name = input(\"What's ur name ??\")\n",
    "hello(name)"
   ]
  },
  {
   "cell_type": "code",
   "execution_count": 67,
   "id": "a202ce34-2212-4317-8d53-7b2f8d726efc",
   "metadata": {},
   "outputs": [
    {
     "name": "stdin",
     "output_type": "stream",
     "text": [
      "What's ur name ?? mona\n"
     ]
    },
    {
     "name": "stdout",
     "output_type": "stream",
     "text": [
      "Hiiieee , mona\n"
     ]
    }
   ],
   "source": [
    "name = input(\"What's ur name ??\")\n",
    "hello(name)\n",
    "\n",
    "\n",
    "\n",
    "\n",
    "\n",
    "\n",
    "\n",
    "\n",
    "\n",
    "\n",
    "\n",
    "\n",
    "\n",
    "\n",
    "\n",
    "\n",
    "\n",
    "\n",
    "\n",
    "\n",
    "\n",
    "\n",
    "\n",
    "\n",
    "\n",
    "\n",
    "\n",
    "\n",
    "\n",
    "\n",
    "\n",
    "\n",
    "\n",
    "\n",
    "\n",
    "def hello(to=\"world\"):\n",
    "    print(\"Hiiieee ,\",to)"
   ]
  },
  {
   "cell_type": "code",
   "execution_count": 68,
   "id": "68a0a359-90a5-46a1-9355-1042d61576a7",
   "metadata": {},
   "outputs": [],
   "source": [
    "# def main():\n",
    "#     name=input(\"What's your  name ?????\\n\")\n",
    "#     x(name)\n",
    "\n",
    "# def x(to=\"world\"):\n",
    "#     print(\"Hellloo,\",to)\n",
    "\n",
    "# main()"
   ]
  },
  {
   "cell_type": "code",
   "execution_count": 78,
   "id": "996003f3-5d37-4938-9956-e21fe0196a86",
   "metadata": {},
   "outputs": [
    {
     "name": "stdin",
     "output_type": "stream",
     "text": [
      "value of x is :  4\n"
     ]
    },
    {
     "name": "stdout",
     "output_type": "stream",
     "text": [
      "Square of x is :  16\n"
     ]
    }
   ],
   "source": [
    "def main():\n",
    "    y = int(input(\"value of x is : \"))\n",
    "    print(\"Square of x is : \",square(y))\n",
    "\n",
    "def square(n):\n",
    "    return n*n\n",
    "\n",
    "main()"
   ]
  },
  {
   "cell_type": "code",
   "execution_count": 77,
   "id": "446b88b6-4af6-44fa-8372-b9dc99c44f02",
   "metadata": {},
   "outputs": [
    {
     "name": "stdin",
     "output_type": "stream",
     "text": [
      "value of x is :  23\n",
      "value of y is :  2\n"
     ]
    },
    {
     "name": "stdout",
     "output_type": "stream",
     "text": [
      "X is greater than y\n"
     ]
    }
   ],
   "source": [
    "x=int(input(\"value of x is : \"))\n",
    "y=int(input(\"value of y is : \"))\n",
    "\n",
    "if x>y:\n",
    "    print(\"X is greater than y\")\n",
    "\n",
    "if x<y:\n",
    "    print(\"y is greater than x\")\n",
    "\n",
    "\n",
    "if x==y:\n",
    "    print(\"X is equal y\")\n",
    "    "
   ]
  },
  {
   "cell_type": "code",
   "execution_count": 79,
   "id": "156c06f2-c0ad-4e2c-a9a1-e11845914e18",
   "metadata": {},
   "outputs": [
    {
     "data": {
      "text/plain": [
       "8"
      ]
     },
     "execution_count": 79,
     "metadata": {},
     "output_type": "execute_result"
    }
   ],
   "source": [
    "34//4\n"
   ]
  },
  {
   "cell_type": "code",
   "execution_count": 80,
   "id": "7d6f908f-4204-41f9-98bc-296b106485ba",
   "metadata": {},
   "outputs": [
    {
     "data": {
      "text/plain": [
       "8.5"
      ]
     },
     "execution_count": 80,
     "metadata": {},
     "output_type": "execute_result"
    }
   ],
   "source": [
    "34/4\n"
   ]
  },
  {
   "cell_type": "code",
   "execution_count": 86,
   "id": "86db7365-8f1e-467f-8855-1024a21175db",
   "metadata": {},
   "outputs": [
    {
     "name": "stdout",
     "output_type": "stream",
     "text": [
      "24\n",
      "10\n",
      "6155\n",
      "41.0\n",
      "61.5\n",
      "61\n",
      "8\n",
      "16\n",
      "50.5\n",
      "1\n"
     ]
    }
   ],
   "source": [
    "print(12+12)\n",
    "print(12-2)\n",
    "print(1231*5)\n",
    "print(123/3)\n",
    "print(123/2)\n",
    "print(123//2)\n",
    "print(2*4)\n",
    "print(2**4)\n",
    "print(101/2)\n",
    "print(101%2)\n"
   ]
  },
  {
   "cell_type": "code",
   "execution_count": 87,
   "id": "69f057eb-32b3-4e05-9002-6d9ed1592c9a",
   "metadata": {},
   "outputs": [
    {
     "name": "stdout",
     "output_type": "stream",
     "text": [
      "37\n"
     ]
    }
   ],
   "source": [
    "a=34\n",
    "b=3\n",
    "print(int(a)+int(b))"
   ]
  },
  {
   "cell_type": "code",
   "execution_count": 88,
   "id": "5e329ce5-571a-46c3-bc7e-a09206bee9a6",
   "metadata": {},
   "outputs": [
    {
     "name": "stdout",
     "output_type": "stream",
     "text": [
      "4.3\n"
     ]
    }
   ],
   "source": [
    "c=2.3\n",
    "d=2\n",
    "print(c+d)"
   ]
  },
  {
   "cell_type": "code",
   "execution_count": 89,
   "id": "52a535a4-c26e-4fdf-8abb-0287356a983c",
   "metadata": {},
   "outputs": [
    {
     "name": "stdout",
     "output_type": "stream",
     "text": [
      "4\n"
     ]
    }
   ],
   "source": [
    "c=2\n",
    "d=2\n",
    "print(c+d)"
   ]
  },
  {
   "cell_type": "code",
   "execution_count": 90,
   "id": "2c6a1310-96c6-4e8f-981d-1c24bc12e830",
   "metadata": {},
   "outputs": [
    {
     "name": "stdin",
     "output_type": "stream",
     "text": [
      "Score:  78\n"
     ]
    },
    {
     "name": "stdout",
     "output_type": "stream",
     "text": [
      "Grade : C\n"
     ]
    }
   ],
   "source": [
    "score = int(input(\"Score: \"))\n",
    "\n",
    "if 90 <= score <= 100:\n",
    "    print(\"Grade : A\")\n",
    "\n",
    "elif 80 <= score < 90:\n",
    "    print(\"Grade : B\")\n",
    "\n",
    "elif 70 <= score < 80:\n",
    "    print(\"Grade : C\")\n",
    "\n",
    "elif 60 <= score < 70:\n",
    "    print(\"Grade : D\")\n",
    "\n",
    "else:\n",
    "    print(\"Grade : F\")"
   ]
  },
  {
   "cell_type": "code",
   "execution_count": 91,
   "id": "e36fe5d8-ec37-4309-b4bb-a1e72bdf5fa9",
   "metadata": {},
   "outputs": [
    {
     "name": "stdin",
     "output_type": "stream",
     "text": [
      "Score:  87\n"
     ]
    },
    {
     "name": "stdout",
     "output_type": "stream",
     "text": [
      "Grade : B\n"
     ]
    }
   ],
   "source": [
    "score = int(input(\"Score: \"))\n",
    "\n",
    "if score >= 90:\n",
    "    print(\"Grade : A\")\n",
    "\n",
    "elif score >= 80:\n",
    "    print(\"Grade : B\")\n",
    "\n",
    "elif score >= 70:\n",
    "    print(\"Grade : C\")\n",
    "\n",
    "elif score >=60 :\n",
    "    print(\"Grade : D\")\n",
    "\n",
    "else:\n",
    "    print(\"Grade : F\")"
   ]
  },
  {
   "cell_type": "code",
   "execution_count": 92,
   "id": "20e74103-7c01-4b6a-8f2e-6e7642b7e978",
   "metadata": {},
   "outputs": [
    {
     "name": "stdin",
     "output_type": "stream",
     "text": [
      "enter value of x : \n",
      " 5\n"
     ]
    },
    {
     "name": "stdout",
     "output_type": "stream",
     "text": [
      "odd\n"
     ]
    }
   ],
   "source": [
    "#even or odd\n",
    "\n",
    "x= int(input(\"enter value of x : \\n\"))\n",
    " \n",
    "\n",
    "if x%2 == 0 :\n",
    "    print(\"even\")\n",
    "\n",
    "else:\n",
    "    print(\"odd\")"
   ]
  },
  {
   "cell_type": "code",
   "execution_count": 104,
   "id": "8dc11b64-ed27-4d2c-9d32-301b7f068d80",
   "metadata": {},
   "outputs": [
    {
     "name": "stdin",
     "output_type": "stream",
     "text": [
      "enter value of x : \n",
      " 34\n"
     ]
    },
    {
     "name": "stdout",
     "output_type": "stream",
     "text": [
      "even\n"
     ]
    }
   ],
   "source": [
    "def main():\n",
    "    x= int(input(\"enter value of x : \\n\"))\n",
    "    if is_even(x):\n",
    "        print(\"even\")\n",
    "    else:\n",
    "        print(\"Odd\")\n",
    "\n",
    "def is_even(n):\n",
    "\n",
    "    return n%2==0\n",
    "\n",
    "       #or\n",
    "      \n",
    "    #return(n%2==0)\n",
    "\n",
    "        #OR\n",
    "    \n",
    "    #return True if n%2==0 else False\n",
    " \n",
    "         #or\n",
    "\n",
    "    # if n%2 == 0:\n",
    "    #     return 1\n",
    "    # else:\n",
    "    #     return 0\n",
    "\n",
    "         #or\n",
    "\n",
    "\n",
    "    \n",
    "\n",
    "main()\n",
    "    "
   ]
  },
  {
   "cell_type": "code",
   "execution_count": 108,
   "id": "94142c4c-3e27-4003-9efd-0ce13c545360",
   "metadata": {},
   "outputs": [
    {
     "name": "stdin",
     "output_type": "stream",
     "text": [
      "What's your name Mona\n"
     ]
    },
    {
     "name": "stdout",
     "output_type": "stream",
     "text": [
      "Pooja's friend\n"
     ]
    }
   ],
   "source": [
    "name = input(\"What's your name\")\n",
    "\n",
    "if name==\"Mona\" or name == \"Hariom\" or name == \"Pooja\":\n",
    "    print(\"Pooja's friend\")\n",
    "\n",
    "elif name==\"Pooja\":\n",
    "    print(\"Friend\")\n",
    "\n",
    "else:\n",
    "    print(\"Sorry!! I don't know you\")"
   ]
  },
  {
   "cell_type": "code",
   "execution_count": 127,
   "id": "5a6e4161-7f38-432a-bfc2-0d58eb4b86d8",
   "metadata": {},
   "outputs": [
    {
     "name": "stdin",
     "output_type": "stream",
     "text": [
      "What's your name Mona\n"
     ]
    },
    {
     "name": "stdout",
     "output_type": "stream",
     "text": [
      "From Bihar\n"
     ]
    }
   ],
   "source": [
    "name = input(\"What's your name\")\n",
    "\n",
    "match name:\n",
    "\n",
    "         case \"Mona\" | \"Pooja\" | \"Sona\":\n",
    "            print(\"From Bihar\")\n",
    "         case \"Meena\":\n",
    "            print(\"From Lh\")\n",
    "\n",
    "         case _:\n",
    "             print(\"Who??\")\n"
   ]
  },
  {
   "cell_type": "code",
   "execution_count": null,
   "id": "69e4957b-b13c-4d00-b2a4-e25737bc7bc1",
   "metadata": {},
   "outputs": [],
   "source": [
    "name = input(\"What's your name\")\n",
    "\n",
    "match name:\n",
    "\n",
    "         case \"Mona\":\n",
    "            print(\"From Bihar\")\n",
    "         case \"Sona\":\n",
    "            print(\"From Bihar\")\n",
    "         case \"Pooja\":\n",
    "             print(\"Bihar\")\n",
    "         case \"Meena\":\n",
    "             print(\"From Lh\")\n",
    "         case _:\n",
    "             print(\"Who??\")"
   ]
  },
  {
   "cell_type": "code",
   "execution_count": null,
   "id": "abc40fb4-c301-49c2-af26-9a89631d07ab",
   "metadata": {},
   "outputs": [],
   "source": [
    " "
   ]
  },
  {
   "cell_type": "code",
   "execution_count": 2,
   "id": "4d31814e-4b54-4ea2-aaed-1778cecea100",
   "metadata": {},
   "outputs": [
    {
     "name": "stdout",
     "output_type": "stream",
     "text": [
      "Meow..\n",
      "Meow..\n",
      "Meow..\n"
     ]
    }
   ],
   "source": [
    "# Loop\n",
    "i=3\n",
    "\n",
    "while i != 0:\n",
    "    print(\"Meow..\")\n",
    "    i= i-1"
   ]
  },
  {
   "cell_type": "code",
   "execution_count": 22,
   "id": "26c6b928-b0e4-4f90-ad7d-aa9343e1d3f5",
   "metadata": {},
   "outputs": [
    {
     "name": "stdout",
     "output_type": "stream",
     "text": [
      "Meow..\n",
      "Meow..\n",
      "Meow..\n"
     ]
    }
   ],
   "source": [
    "\n",
    "i=3\n",
    "\n",
    "while i != 0:\n",
    "    print(\"Meow..\")\n",
    "    i= i-1 \n",
    "  "
   ]
  },
  {
   "cell_type": "code",
   "execution_count": 23,
   "id": "e40deda5-7465-4690-bea3-68c2af88f7ed",
   "metadata": {},
   "outputs": [
    {
     "name": "stdout",
     "output_type": "stream",
     "text": [
      "Meow..\n",
      "Meow..\n",
      "Meow..\n",
      "Meow..\n"
     ]
    }
   ],
   "source": [
    "i=0\n",
    "\n",
    "while i <= 3:\n",
    "    print(\"Meow..\")\n",
    "    i= i+1"
   ]
  },
  {
   "cell_type": "code",
   "execution_count": 24,
   "id": "517d5ed5-e120-4502-9ad1-42e94205b539",
   "metadata": {},
   "outputs": [
    {
     "name": "stdout",
     "output_type": "stream",
     "text": [
      "Meow..\n",
      "Meow..\n",
      "Meow..\n"
     ]
    }
   ],
   "source": [
    "i=0\n",
    "while i < 3:\n",
    "    print(\"Meow..\")\n",
    "    i += 1\n",
    "    "
   ]
  },
  {
   "cell_type": "code",
   "execution_count": 25,
   "id": "67f03dc9-28e0-4984-a93b-3aad60264107",
   "metadata": {},
   "outputs": [
    {
     "name": "stdout",
     "output_type": "stream",
     "text": [
      "Meoww\n",
      "Meoww\n",
      "Meoww\n",
      "Meoww\n"
     ]
    }
   ],
   "source": [
    "print(\"Meoww\\n\"* 4, end= \"\")"
   ]
  },
  {
   "cell_type": "code",
   "execution_count": 26,
   "id": "46631d01-f514-4721-91e2-37dc4c1c2ce1",
   "metadata": {},
   "outputs": [
    {
     "name": "stdout",
     "output_type": "stream",
     "text": [
      "Meoww\tMeoww\tMeoww\tMeoww\t\n"
     ]
    }
   ],
   "source": [
    "print(\"Meoww\\t\"* 4)"
   ]
  },
  {
   "cell_type": "code",
   "execution_count": 27,
   "id": "afd5762a-ae6d-4f2f-840e-b42db7484902",
   "metadata": {},
   "outputs": [
    {
     "name": "stdout",
     "output_type": "stream",
     "text": [
      "Meoww\n",
      "Meoww\n",
      "Meoww\n",
      "Meoww\n",
      "\n"
     ]
    }
   ],
   "source": [
    "print(\"Meoww\\n\"* 4 )"
   ]
  },
  {
   "cell_type": "code",
   "execution_count": 28,
   "id": "a3e68574-2d01-48a9-9b6d-ebc1478dbb21",
   "metadata": {},
   "outputs": [
    {
     "name": "stdout",
     "output_type": "stream",
     "text": [
      "Meoow....\n",
      "Meoow....\n",
      "Meoow....\n"
     ]
    }
   ],
   "source": [
    "for _ in range(3):\n",
    "    print(\"Meoow....\")"
   ]
  },
  {
   "cell_type": "code",
   "execution_count": 29,
   "id": "202a506f-ea87-4e18-8a7f-41561b883819",
   "metadata": {},
   "outputs": [
    {
     "name": "stdout",
     "output_type": "stream",
     "text": [
      "Meoow....\n",
      "Meoow....\n",
      "Meoow....\n"
     ]
    }
   ],
   "source": [
    "# for looop\n",
    "\n",
    "for i in range(3):\n",
    "    print(\"Meoow....\") "
   ]
  },
  {
   "cell_type": "code",
   "execution_count": 30,
   "id": "dcddfe30-dedd-4218-b93b-4a1ee22ebe39",
   "metadata": {},
   "outputs": [
    {
     "name": "stdin",
     "output_type": "stream",
     "text": [
      "Whatis n : \n",
      " 6\n"
     ]
    },
    {
     "name": "stdout",
     "output_type": "stream",
     "text": [
      "Meow..\n",
      "Meow..\n",
      "Meow..\n",
      "Meow..\n",
      "Meow..\n",
      "Meow..\n"
     ]
    }
   ],
   "source": [
    "while True:\n",
    "    n = int(input(\"Whatis n : \\n\"))\n",
    "    if n>0:\n",
    "        break\n",
    "\n",
    "\n",
    "for _ in range(n):\n",
    "    print(\"Meow..\")"
   ]
  },
  {
   "cell_type": "code",
   "execution_count": 6,
   "id": "13ed5fc2-79aa-46ad-a9bf-80397b8e4ef5",
   "metadata": {},
   "outputs": [
    {
     "name": "stdout",
     "output_type": "stream",
     "text": [
      "Meoww\n",
      "Meoww\n",
      "Meoww\n"
     ]
    }
   ],
   "source": [
    "def main():\n",
    "    meow(3)\n",
    "\n",
    "def meow(n):\n",
    "    for _ in range (n):\n",
    "        print(\"Meoww\")\n",
    "\n",
    "\n",
    "main()"
   ]
  },
  {
   "cell_type": "code",
   "execution_count": 21,
   "id": "1b6229ee-cd37-4029-b9f9-2f1b99b8c6cd",
   "metadata": {},
   "outputs": [
    {
     "name": "stdin",
     "output_type": "stream",
     "text": [
      " Value of n is :  8\n"
     ]
    },
    {
     "name": "stdout",
     "output_type": "stream",
     "text": [
      "0 Meow\n",
      "1 Meow\n",
      "2 Meow\n",
      "3 Meow\n",
      "4 Meow\n",
      "5 Meow\n",
      "6 Meow\n",
      "7 Meow\n"
     ]
    }
   ],
   "source": [
    "def main():\n",
    "    num = get_number()\n",
    "    meow(num)\n",
    "\n",
    "def get_number():\n",
    "    while True:\n",
    "        n = int(input(\" Value of n is : \"))\n",
    "        if n>0:\n",
    "            break\n",
    "    return n\n",
    "\n",
    "def meow(n):\n",
    "    \n",
    "    for i in range (n):\n",
    "        print(i,\"Meow\")\n",
    "\n",
    "\n",
    "main()"
   ]
  },
  {
   "cell_type": "code",
   "execution_count": 2,
   "id": "40e52123-5bcb-4442-aecc-9450721d9f2e",
   "metadata": {},
   "outputs": [
    {
     "name": "stdout",
     "output_type": "stream",
     "text": [
      "3\n"
     ]
    }
   ],
   "source": [
    "print(3)"
   ]
  },
  {
   "cell_type": "code",
   "execution_count": 8,
   "id": "2eae7759-86cf-4fc1-813f-3936db0d482f",
   "metadata": {},
   "outputs": [
    {
     "name": "stdout",
     "output_type": "stream",
     "text": [
      "['Hariom', 'Hari', 'Ram']\n"
     ]
    }
   ],
   "source": [
    "#List\n",
    "students = [\"Hariom\",\"Hari\", \"Ram\"]\n",
    "\n",
    "print(students)"
   ]
  },
  {
   "cell_type": "code",
   "execution_count": 9,
   "id": "a3f04b64-35ea-4a79-a176-52f6b1a80366",
   "metadata": {},
   "outputs": [
    {
     "name": "stdout",
     "output_type": "stream",
     "text": [
      "Hariom\n",
      "Hari\n",
      "Ram\n"
     ]
    }
   ],
   "source": [
    "students = [\"Hariom\",\"Hari\", \"Ram\"]\n",
    "\n",
    "print(students[0])\n",
    "print(students[1])\n",
    "print(students[2])"
   ]
  },
  {
   "cell_type": "code",
   "execution_count": 10,
   "id": "95371960-ee37-4c32-b791-4d8b5b84d245",
   "metadata": {},
   "outputs": [
    {
     "name": "stdout",
     "output_type": "stream",
     "text": [
      "Hariom\n",
      "Hari\n",
      "Ram\n"
     ]
    }
   ],
   "source": [
    "#List using for loop\n",
    "\n",
    "students = [\"Hariom\",\"Hari\", \"Ram\"]\n",
    "for student in students:\n",
    "    print(student)"
   ]
  },
  {
   "cell_type": "code",
   "execution_count": 22,
   "id": "8b460e18-f3f1-4fdc-851b-deec52635aa8",
   "metadata": {},
   "outputs": [
    {
     "name": "stdout",
     "output_type": "stream",
     "text": [
      "1 Hariom\n",
      "2 Hari\n",
      "3 Ram\n"
     ]
    }
   ],
   "source": [
    "students = [\"Hariom\",\"Hari\", \"Ram\"]\n",
    " \n",
    "for i in range(len(students)):\n",
    "    print(i+1,students[i])\n",
    "    "
   ]
  },
  {
   "cell_type": "code",
   "execution_count": 24,
   "id": "2b7b7e4a-f7ef-42a1-a8c0-d185956ba600",
   "metadata": {},
   "outputs": [
    {
     "name": "stdout",
     "output_type": "stream",
     "text": [
      "Gryffindor\n",
      "Gryffindor\n",
      "Gryffindor\n",
      "Slytherin\n"
     ]
    }
   ],
   "source": [
    "#dictonary\n",
    "\n",
    "# students = [\"Hariom\",\"Hari\", \"Ram\",\"Shiva\"]\n",
    "# house = [\"Gryffindor\",\"Gryffindor\",\"Gryffindor\"]\n",
    "\n",
    "students = {\n",
    "    \"Hariom\":\"Gryffindor\",\n",
    "    \"Hari\":\"Gryffindor\", \n",
    "    \"Ram\":\"Gryffindor\",\n",
    "    \"Shiva\":\"Slytherin\"\n",
    "}\n",
    "\n",
    "print(students[\"Hariom\"])\n",
    "print(students[\"Hari\"])\n",
    "print(students[\"Ram\"])\n",
    "print(students[\"Shiva\"])\n"
   ]
  },
  {
   "cell_type": "code",
   "execution_count": 29,
   "id": "0a060b19-c906-4886-afb8-fa9cc29e2f4f",
   "metadata": {},
   "outputs": [
    {
     "name": "stdout",
     "output_type": "stream",
     "text": [
      "Hariom: Gryffindor\n",
      "Hari: Gryffindor\n",
      "Ram: Gryffindor\n",
      "Shiva: Slytherin\n"
     ]
    }
   ],
   "source": [
    "students = {\n",
    "    \"Hariom\":\"Gryffindor\",\n",
    "    \"Hari\":\"Gryffindor\", \n",
    "    \"Ram\":\"Gryffindor\",\n",
    "    \"Shiva\":\"Slytherin\"\n",
    "}\n",
    "\n",
    "\n",
    "for student in students:\n",
    "    print(student,students[student],sep=\": \")"
   ]
  },
  {
   "cell_type": "code",
   "execution_count": 17,
   "id": "9d83e8d8-6e60-46bb-95f6-d7e1a1185131",
   "metadata": {},
   "outputs": [
    {
     "name": "stdout",
     "output_type": "stream",
     "text": [
      "Name:  Harmione , House: Gryffindor , Petronus:  Otter\n",
      "Name:  Harry , House: Gryffindor , Petronus:  Stag\n",
      "Name:  HRon , House: Gryffindor , Petronus:  Jack Russekk terrier\n",
      "Name:  Darco , House: Stytherin , Petronus:  None\n"
     ]
    }
   ],
   "source": [
    "students = [\n",
    "    {\"Name\": \"Harmione\", \"House\": \"Gryffindor\", \"Patronus\": \"Otter\"},\n",
    "    {\"Name\": \"Harry\", \"House\": \"Gryffindor\", \"Patronus\": \"Stag\"},\n",
    "    {\"Name\": \"HRon\", \"House\": \"Gryffindor\", \"Patronus\": \"Jack Russekk terrier\"},\n",
    "    {\"Name\": \"Darco\", \"House\": \"Stytherin\", \"Patronus\": None}\n",
    "]\n",
    "\n",
    "for student in students:\n",
    "    print( \"Name: \",student[\"Name\"],\", House:\",student[\"House\"],\", Petronus: \",student[\"Patronus\"],sep=\" \")"
   ]
  },
  {
   "cell_type": "code",
   "execution_count": 20,
   "id": "28f1cdbe-8ea3-49e2-b8ee-d78a4f7ac4b2",
   "metadata": {},
   "outputs": [
    {
     "name": "stdout",
     "output_type": "stream",
     "text": [
      "1 {'Name': 'Harmione', 'House': 'Gryffindor', 'Patronus': 'Otter'}\n",
      "2 {'Name': 'Harry', 'House': 'Gryffindor', 'Patronus': 'Stag'}\n",
      "3 {'Name': 'HRon', 'House': 'Gryffindor', 'Patronus': 'Jack Russekk terrier'}\n",
      "4 {'Name': 'Darco', 'House': 'Stytherin', 'Patronus': None}\n"
     ]
    }
   ],
   "source": [
    " students = [\n",
    "    {\"Name\": \"Harmione\", \"House\": \"Gryffindor\", \"Patronus\": \"Otter\"},\n",
    "    {\"Name\": \"Harry\", \"House\": \"Gryffindor\", \"Patronus\": \"Stag\"},\n",
    "    {\"Name\": \"HRon\", \"House\": \"Gryffindor\", \"Patronus\": \"Jack Russekk terrier\"},\n",
    "    {\"Name\": \"Darco\", \"House\": \"Stytherin\", \"Patronus\": None}\n",
    "]\n",
    "\n",
    "for student in range(len(students)):\n",
    "    print( student+1, students[student])"
   ]
  },
  {
   "cell_type": "code",
   "execution_count": 21,
   "id": "713cfdf5-a127-406f-a851-b799648b2e2e",
   "metadata": {},
   "outputs": [
    {
     "name": "stdout",
     "output_type": "stream",
     "text": [
      "#\n",
      "#\n",
      "#\n"
     ]
    }
   ],
   "source": [
    "print(\"#\")\n",
    "print(\"#\")\n",
    "print(\"#\")"
   ]
  },
  {
   "cell_type": "code",
   "execution_count": 22,
   "id": "7e2d33a0-6378-48a7-8a66-ec58ff86b188",
   "metadata": {},
   "outputs": [
    {
     "name": "stdout",
     "output_type": "stream",
     "text": [
      "#\n",
      "#\n",
      "#\n"
     ]
    }
   ],
   "source": [
    "for _ in range(3):\n",
    "    print(\"#\")"
   ]
  },
  {
   "cell_type": "code",
   "execution_count": 27,
   "id": "b2745cbf-3d2d-4ecf-a420-9cc15b2d8845",
   "metadata": {},
   "outputs": [
    {
     "name": "stdout",
     "output_type": "stream",
     "text": [
      "#\n",
      "#\n",
      "#\n"
     ]
    }
   ],
   "source": [
    "def main():\n",
    "    print_col(3)\n",
    "\n",
    "def print_col(height):\n",
    "    for _ in range(height):\n",
    "        print(\"#\")\n",
    "\n",
    "\n",
    "main()"
   ]
  },
  {
   "cell_type": "code",
   "execution_count": 35,
   "id": "b25235be-db25-47d5-bc03-bccca9dfe716",
   "metadata": {},
   "outputs": [
    {
     "name": "stdout",
     "output_type": "stream",
     "text": [
      "#\n",
      "#\n",
      "#\n",
      "#\n",
      " "
     ]
    }
   ],
   "source": [
    "def main():\n",
    "    print_col(4)\n",
    "\n",
    "def print_col(height):\n",
    "    # for _ in range(height):\n",
    "    #     print(\"#\")\n",
    "\n",
    "    print(\"#\\n\" * height, end=\" \")\n",
    "\n",
    "\n",
    "main()"
   ]
  },
  {
   "cell_type": "code",
   "execution_count": 3,
   "id": "082bd6b3-b0c1-47ae-9777-a461ed2ba7b3",
   "metadata": {},
   "outputs": [
    {
     "name": "stdin",
     "output_type": "stream",
     "text": [
      " Value of n is :  5\n"
     ]
    },
    {
     "name": "stdout",
     "output_type": "stream",
     "text": [
      "#\n",
      "#\n",
      "#\n",
      "#\n",
      "#\n",
      " "
     ]
    }
   ],
   "source": [
    "def main():\n",
    "    num = io()\n",
    "    print_col(num)\n",
    "\n",
    "def io():\n",
    "    while True:\n",
    "        height = int(input(\" Value of n is : \"))\n",
    "        if height > 0:\n",
    "            break\n",
    "    return height\n",
    "          \n",
    "\n",
    "def print_col(height):\n",
    "    # for i in range(height):\n",
    "    #     print(\"#\")\n",
    "\n",
    "    print(\"#\\n\" * height, end=\" \")\n",
    "\n",
    "\n",
    "main()"
   ]
  },
  {
   "cell_type": "code",
   "execution_count": 5,
   "id": "aa669d0b-6757-4a7c-8300-77b051d7924f",
   "metadata": {},
   "outputs": [
    {
     "name": "stdout",
     "output_type": "stream",
     "text": [
      "????\n"
     ]
    }
   ],
   "source": [
    "def main():\n",
    "    print_row(4)\n",
    "\n",
    "def print_row(width):\n",
    "    print(\"?\" * width)\n",
    "\n",
    "main()"
   ]
  },
  {
   "cell_type": "code",
   "execution_count": 10,
   "id": "850b8f8a-b9e2-446d-80b0-ce5c451af841",
   "metadata": {},
   "outputs": [
    {
     "name": "stdout",
     "output_type": "stream",
     "text": [
      "###\n",
      "###\n",
      "###\n"
     ]
    }
   ],
   "source": [
    "def main():\n",
    "    print_square(3)\n",
    "\n",
    "def print_square(size):\n",
    "    # For each row in square\n",
    "    for i in range(size):\n",
    "\n",
    "        #For each brick in row\n",
    "        for j in range(size):\n",
    "            print(\"#\", end = \"\")\n",
    "            \n",
    "        print()\n",
    "     \n",
    "\n",
    "main()"
   ]
  },
  {
   "cell_type": "code",
   "execution_count": 11,
   "id": "38b8cf21-3e5e-4d3f-a638-834e7eff1221",
   "metadata": {},
   "outputs": [
    {
     "name": "stdout",
     "output_type": "stream",
     "text": [
      "###\n",
      "###\n",
      "###\n"
     ]
    }
   ],
   "source": [
    "def main():\n",
    "    print_square(3)\n",
    "\n",
    "def print_square(size):\n",
    "    for i in range(size):\n",
    "        print_row(size)\n",
    "\n",
    "def print_row(width):\n",
    "    print(\"#\"* width)\n",
    "\n",
    "main()"
   ]
  },
  {
   "cell_type": "code",
   "execution_count": null,
   "id": "019b6f57-4a20-4a31-9cc4-83d447f46223",
   "metadata": {},
   "outputs": [],
   "source": []
  },
  {
   "cell_type": "code",
   "execution_count": null,
   "id": "8ac09d81-32f8-47b4-b46d-9eb72c2a6264",
   "metadata": {},
   "outputs": [],
   "source": []
  },
  {
   "cell_type": "code",
   "execution_count": 19,
   "id": "c2322d09-512b-45ee-9d90-e261bf93df33",
   "metadata": {},
   "outputs": [
    {
     "name": "stdout",
     "output_type": "stream",
     "text": [
      "5\n"
     ]
    }
   ],
   "source": [
    "x= 5\n",
    "if x<0:\n",
    "    print(-x)\n",
    "\n",
    "else:\n",
    "    print(x)\n",
    "       \n",
    "      \n",
    " "
   ]
  },
  {
   "cell_type": "code",
   "execution_count": 22,
   "id": "20ba9019-b4e9-4ef6-beb6-a96e27d17446",
   "metadata": {},
   "outputs": [
    {
     "name": "stdin",
     "output_type": "stream",
     "text": [
      "enter value of x:  -6\n"
     ]
    },
    {
     "name": "stdout",
     "output_type": "stream",
     "text": [
      "absolute value is of  -6 is 6\n"
     ]
    }
   ],
   "source": [
    "x=int(input(\"enter value of x: \"))\n",
    "if x<0:\n",
    "    print(\"absolute value is of \",x, \"is\" ,-x)\n",
    "\n",
    "else:\n",
    "    print(x)"
   ]
  },
  {
   "cell_type": "code",
   "execution_count": 23,
   "id": "e93262f9-3405-4aba-b1ff-a63f5b77ff64",
   "metadata": {},
   "outputs": [
    {
     "name": "stdin",
     "output_type": "stream",
     "text": [
      "enter value of x:  5\n"
     ]
    },
    {
     "name": "stdout",
     "output_type": "stream",
     "text": [
      "5\n"
     ]
    }
   ],
   "source": [
    "x=int(input(\"enter value of x: \"))\n",
    "if x<0:\n",
    "    print(\"absolute value is of \",x, \"is\" ,-x)\n",
    "\n",
    "else:\n",
    "    print(x)"
   ]
  },
  {
   "cell_type": "code",
   "execution_count": null,
   "id": "94f2b264-7279-4c13-86a0-e9d82cb24666",
   "metadata": {},
   "outputs": [],
   "source": []
  },
  {
   "cell_type": "code",
   "execution_count": 26,
   "id": "439b7c33-ada0-422b-aec9-79942a2361e1",
   "metadata": {},
   "outputs": [
    {
     "name": "stdin",
     "output_type": "stream",
     "text": [
      "Enter your salary : \n",
      " 70000\n",
      "Enter from how many year you do work here : \n",
      " 4\n"
     ]
    },
    {
     "name": "stdout",
     "output_type": "stream",
     "text": [
      "Sorry come after providing 5 year service okayy!! \n"
     ]
    }
   ],
   "source": [
    "# A company decided to give bonus of 5% to employee if his/her year of service is more than 5 years.\n",
    "# Ask user for their salary and year of service and print the net bonus amount\n",
    "\n",
    "salery=float(input(\"Enter your salary : \\n\"))\n",
    "service = float(input(\"Enter from how many year you do work here : \\n\"))\n",
    "\n",
    "if service>5:\n",
    "    salery = salery*0.5\n",
    "    print(\"Your net bonus amount is: \",salery)\n",
    "\n",
    "else:\n",
    "    print(\"Sorry come after providing 5 year service okayy!! \")"
   ]
  },
  {
   "cell_type": "code",
   "execution_count": 32,
   "id": "da6a0659-06cd-41ab-b88a-56901695529d",
   "metadata": {},
   "outputs": [
    {
     "name": "stdin",
     "output_type": "stream",
     "text": [
      "Length :  34\n",
      "Bradth :  34\n"
     ]
    },
    {
     "name": "stdout",
     "output_type": "stream",
     "text": [
      "Is square.\n"
     ]
    }
   ],
   "source": [
    "# Take values of length and breadth of a rectangle from user and check if it is square or not\n",
    "len = float(input(\"Length : \", ))\n",
    "br = float(input(\"Bradth : \" ))\n",
    "\n",
    "if len==br:\n",
    "    print (\"Is square.\")\n",
    "\n",
    "else:\n",
    "    print(\"Not a square, may be rectangle\")"
   ]
  },
  {
   "cell_type": "code",
   "execution_count": 39,
   "id": "5988dabc-dda3-45bf-8c77-d4fe174cf854",
   "metadata": {},
   "outputs": [
    {
     "name": "stdin",
     "output_type": "stream",
     "text": [
      "Enter the value of x:  65\n",
      "Enter the value of y:  45\n"
     ]
    },
    {
     "name": "stdout",
     "output_type": "stream",
     "text": [
      "x is greater 65\n"
     ]
    }
   ],
   "source": [
    "# Take two int values from user and print greatest among them\n",
    "\n",
    "x =  int(input(\"Enter the value of x: \")) \n",
    "y =  int(input(\"Enter the value of y: \")) \n",
    "\n",
    "if x>y:\n",
    "    print (\"x is greater\",x)\n",
    "\n",
    "else:\n",
    "    print(\"y is greter\",y)\n"
   ]
  },
  {
   "cell_type": "code",
   "execution_count": 17,
   "id": "cb24c1fc-1c3c-40ac-ba6d-9e3980808833",
   "metadata": {},
   "outputs": [
    {
     "name": "stdin",
     "output_type": "stream",
     "text": [
      "Quantity:  25\n"
     ]
    },
    {
     "name": "stdout",
     "output_type": "stream",
     "text": [
      "you got discount of :  2250.0\n"
     ]
    }
   ],
   "source": [
    "'''\n",
    "A shop will give discount of 10% if the cost of purchased quantity is more than 1000.\n",
    "Ask user for quantity\n",
    "Suppose, one unit will cost 100.\n",
    "Judge and print total cost for user.\n",
    "'''\n",
    "quantity = float(input(\"Quantity: \"))\n",
    "p  = quantity * 100 \n",
    "\n",
    "if p > 1000:\n",
    "    print(\"you got discount of : \", p-0.1*p)\n",
    "\n",
    "else:\n",
    "    print(\"You purchage amount should be more than 999 \")"
   ]
  },
  {
   "cell_type": "code",
   "execution_count": 11,
   "id": "f0161357-97c9-4e13-a526-3e344e9df0f4",
   "metadata": {},
   "outputs": [
    {
     "name": "stdout",
     "output_type": "stream",
     "text": [
      "Enter quantity\n"
     ]
    },
    {
     "name": "stdin",
     "output_type": "stream",
     "text": [
      " 100\n"
     ]
    },
    {
     "name": "stdout",
     "output_type": "stream",
     "text": [
      "Cost is 9000.0\n"
     ]
    }
   ],
   "source": [
    "\n",
    "print (\"Enter quantity\")\n",
    "quantity = int(input())\n",
    "if (quantity*100) > 1000:\n",
    "  print(\"Cost is\",((quantity*100)-(.1*quantity*100)) )\n",
    "else:\n",
    "  print (\"Cost is\",quantity*100)"
   ]
  },
  {
   "cell_type": "code",
   "execution_count": 21,
   "id": "43370a81-dc67-4ffc-818d-b07e0eb643b0",
   "metadata": {},
   "outputs": [
    {
     "name": "stdin",
     "output_type": "stream",
     "text": [
      "Enter your grade :  65\n"
     ]
    },
    {
     "name": "stdout",
     "output_type": "stream",
     "text": [
      "Grade: B\n"
     ]
    }
   ],
   "source": [
    " '''\n",
    " A school has following rules for grading system:\n",
    "a. Below 25 - F\n",
    "b. 25 to 45 - E\n",
    "c. 45 to 50 - D\n",
    "d. 50 to 60 - C\n",
    "e. 60 to 80 - B\n",
    "f. Above 80 - A\n",
    "Ask user to enter marks and print the corresponding grade.\n",
    " '''\n",
    "\n",
    "grade = float(input(\"Enter your grade : \"))\n",
    "if grade >=80:\n",
    "    print(\"Grade: A\\n\")\n",
    "\n",
    "elif grade >=60:\n",
    "    print(\"Grade: B\")\n",
    "\n",
    "elif grade >=50:\n",
    "    print(\"Grade: C\")\n",
    "\n",
    "elif grade >=45:\n",
    "    print(\"Grade: D\")\n",
    "\n",
    "elif grade >=25:\n",
    "    print(\"Grade: E\")\n",
    "\n",
    "else:\n",
    "    print(\"Sorry you Fali\")\n",
    "    "
   ]
  },
  {
   "cell_type": "code",
   "execution_count": 28,
   "id": "7e57ba2f-3a2b-45e0-be5f-8e6c4e786056",
   "metadata": {},
   "outputs": [
    {
     "name": "stdin",
     "output_type": "stream",
     "text": [
      "Age of person A:  45\n",
      "Age of person B:  34\n",
      "Age of person C:  5676\n"
     ]
    },
    {
     "name": "stdout",
     "output_type": "stream",
     "text": [
      "person B is youngest and C is oldest\n"
     ]
    }
   ],
   "source": [
    "'''Take input of age of 3 people by user and determine oldest and youngest among them.\n",
    "'''\n",
    "\n",
    "a=(int(input(\"Age of person A: \")))\n",
    "b=(int(input(\"Age of person B: \")))\n",
    "c=(int(input(\"Age of person C: \")))\n",
    "\n",
    "if a<b<c:\n",
    "    print(\"person A is youngest and C is oldest\")\n",
    "\n",
    "elif b<a<c:\n",
    "    print(\"person B is youngest and C is oldest\")\n",
    "\n",
    "elif c<b<a:\n",
    "    print(\"person C is youngest and A is oldest\")\n",
    "\n",
    "elif b<c<a:\n",
    "    print(\"person B is youngest and A is oldest\")\n",
    "\n",
    "elif a<c<b:\n",
    "    print(\"person A is youngest and B is oldest\")\n",
    "\n",
    "elif c<a<b:\n",
    "    print(\"person C is youngest and B is oldest\")\n",
    "\n",
    "else:\n",
    "    print(\"All are of same age.\")\n",
    "    \n"
   ]
  },
  {
   "cell_type": "code",
   "execution_count": 30,
   "id": "698410c7-9afe-4a04-82e1-e0ec6e3e7cfe",
   "metadata": {},
   "outputs": [
    {
     "name": "stdin",
     "output_type": "stream",
     "text": [
      "enter value of x:  -34\n"
     ]
    },
    {
     "name": "stdout",
     "output_type": "stream",
     "text": [
      "absolute value is:  34\n"
     ]
    }
   ],
   "source": [
    "'''\n",
    "Write a program to print absolute vlaue of a number entered by user. E.g.-\n",
    "INPUT: 1        OUTPUT: 1\n",
    "INPUT: -1        OUTPUT: 1\n",
    "'''\n",
    "\n",
    "x=int(input(\"enter value of x: \" ))\n",
    "\n",
    "if x<0:\n",
    "    print(\"absolute value is: \", -x)\n",
    "\n",
    "else:\n",
    "    print(\"X is already absolute.\")"
   ]
  },
  {
   "cell_type": "code",
   "execution_count": 35,
   "id": "85ee479d-82a7-4b97-b03b-ae87fc8e664a",
   "metadata": {},
   "outputs": [
    {
     "name": "stdin",
     "output_type": "stream",
     "text": [
      "Total number of clases held :   90\n",
      "Total number of clases attended :   3\n"
     ]
    },
    {
     "name": "stdout",
     "output_type": "stream",
     "text": [
      "3 % class attended\n",
      "You are no allowed to sit in exam.\n"
     ]
    }
   ],
   "source": [
    "'''\n",
    "A student will not be allowed to sit in exam if his/her attendence is less than 75%.\n",
    "Take following input from user\n",
    "Number of classes held\n",
    "Number of classes attended.\n",
    "And print percentage of class attended\n",
    "Is student is allowed to sit in exam or not.\n",
    "'''\n",
    "\n",
    "no_of_class_held = int(input(\"Total number of clases held :  \" ))\n",
    "no_of_class_attended = int(input(\"Total number of clases attended :  \" ))\n",
    "p=round((no_of_class_attended/no_of_class_held)*100)\n",
    "print(p,\"% class attended\")\n",
    "\n",
    "if p<75:\n",
    "    print(\"You are no allowed to sit in exam.\")\n"
   ]
  },
  {
   "cell_type": "code",
   "execution_count": 37,
   "id": "77e2c16e-3df1-43f4-9fe5-330212c4ce45",
   "metadata": {},
   "outputs": [
    {
     "name": "stdin",
     "output_type": "stream",
     "text": [
      "Total number of clases held :   343\n",
      "Total number of clases attended :   23\n",
      "enter if med yes\n"
     ]
    },
    {
     "name": "stdout",
     "output_type": "stream",
     "text": [
      "7 % class attended\n",
      "You are no allowed to sit in exam.\n"
     ]
    }
   ],
   "source": [
    "'''\n",
    "Modify the above question to allow student to sit if he/she has medical cause. \n",
    "Ask user if he/she has medical cause or not ( 'Y' or 'N' ) and print accordingly.\n",
    "'''\n",
    "\n",
    "no_of_class_held = int(input(\"Total number of clases held :  \" ))\n",
    "\n",
    "no_of_class_attended = int(input(\"Total number of clases attended :  \" ))\n",
    "m = input(\"enter if med\")\n",
    "p=round((no_of_class_attended/no_of_class_held)*100)\n",
    "print(p,\"% class attended\")\n",
    "\n",
    "if p<75:\n",
    "    print(\"You are no allowed to sit in exam.\")\n",
    "elif m == 'yes' :\n",
    "       print(\"Allowed\")\n",
    "      \n",
    "\n",
    "else:\n",
    "    print(\"You are no allowed to sit in exam.\")\n",
    "    "
   ]
  },
  {
   "cell_type": "code",
   "execution_count": 46,
   "id": "e0d90060-79d7-463e-bbc4-69b6cf800ce8",
   "metadata": {},
   "outputs": [
    {
     "name": "stdout",
     "output_type": "stream",
     "text": [
      "------Armstrong number-----\n"
     ]
    },
    {
     "name": "stdin",
     "output_type": "stream",
     "text": [
      "Enter the number to check wether the number is armstrong or not \n",
      " 876876\n"
     ]
    },
    {
     "name": "stdout",
     "output_type": "stream",
     "text": [
      "876876 is not an armstrong number\n"
     ]
    }
   ],
   "source": [
    "print(\"------Armstrong number-----\")\n",
    "n = int(input(\"Enter the number to check wether the number is armstrong or not \\n\"))\n",
    "sum = 0\n",
    " \n",
    "y = n\n",
    "while(n>0):\n",
    "   x = n%10\n",
    "   sum =  sum+ x ** n\n",
    "   n= n//10\n",
    "   \n",
    "if(sum == y):\n",
    "   print(f\"{y} is armstrong number\")\n",
    "else:\n",
    "   print(f\"{y} is not an armstrong number\")"
   ]
  },
  {
   "cell_type": "code",
   "execution_count": 53,
   "id": "c1baccb8-903c-4f9c-a23d-1597586e88d4",
   "metadata": {},
   "outputs": [
    {
     "name": "stdin",
     "output_type": "stream",
     "text": [
      "Enter the number to check wether the number is armstrong or not \n",
      " 71\n"
     ]
    },
    {
     "name": "stdout",
     "output_type": "stream",
     "text": [
      "71 is a prime number\n"
     ]
    }
   ],
   "source": [
    "num = n = int(input(\"Enter the number to check wether the number is armstrong or not \\n\"))\n",
    " \n",
    "if num > 1:\n",
    "   \n",
    "    for i in range(2, (num//2)+1):\n",
    "        if (num % i) == 0:\n",
    "            print(num, \"is not a prime number\")\n",
    "            break\n",
    "    else:\n",
    "        print(num, \"is a prime number\")"
   ]
  },
  {
   "cell_type": "code",
   "execution_count": 2,
   "id": "d949b229-9fac-46e3-97b7-666aa2ae5e61",
   "metadata": {},
   "outputs": [
    {
     "name": "stdin",
     "output_type": "stream",
     "text": [
      "Enter value of x : \n",
      " 10\n"
     ]
    },
    {
     "name": "stdout",
     "output_type": "stream",
     "text": [
      "0\n",
      "1\n",
      "2\n",
      "3\n",
      "4\n",
      "5\n",
      "6\n",
      "7\n",
      "8\n",
      "9\n",
      "10\n"
     ]
    }
   ],
   "source": [
    "#Print First 10 natural numbers using while loop\n",
    "x=int (input(\"Enter value of x : \\n\"))\n",
    "i=0\n",
    "while i<=x:\n",
    "    print(i)\n",
    "    i+=1\n",
    "\n"
   ]
  },
  {
   "cell_type": "code",
   "execution_count": 30,
   "id": "d87e828e-1ce5-499e-8a63-b15ea0b2b78e",
   "metadata": {},
   "outputs": [
    {
     "name": "stdin",
     "output_type": "stream",
     "text": [
      "n:  7\n"
     ]
    },
    {
     "name": "stdout",
     "output_type": "stream",
     "text": [
      "1  \n",
      "1 2  \n",
      "1 2 3  \n",
      "1 2 3 4  \n",
      "1 2 3 4 5  \n",
      "1 2 3 4 5 6  \n",
      "1 2 3 4 5 6 7  \n"
     ]
    }
   ],
   "source": [
    " '''\n",
    "Write a program to print the following number pattern using a loop.\n",
    "\n",
    "1 \n",
    "1 2 \n",
    "1 2 3 \n",
    "1 2 3 4 \n",
    "1 2 3 4 5\n",
    " '''\n",
    "n=int(input(\"n: \"))\n",
    "for i in range(1,n+1,1):\n",
    "    for j in range(1,i+1):\n",
    "        print( j ,end=\" \")\n",
    "    print(\" \")\n",
    " \n",
    "\n",
    " \n",
    "   \n"
   ]
  },
  {
   "cell_type": "code",
   "execution_count": null,
   "id": "3d3e25dc-d711-4564-b783-559e93764924",
   "metadata": {},
   "outputs": [],
   "source": [
    "'''\n",
    "Exercise 3: Calculate the sum of all numbers from 1 to a given number\n",
    "'''\n",
    "n=int(input(\"n: \"))\n",
    "for i in range(n):\n",
    "    "
   ]
  },
  {
   "cell_type": "code",
   "execution_count": 44,
   "id": "c0768d00-6bc3-452e-9097-5e39f64a94ec",
   "metadata": {},
   "outputs": [
    {
     "name": "stdin",
     "output_type": "stream",
     "text": [
      "n:  10\n"
     ]
    },
    {
     "name": "stdout",
     "output_type": "stream",
     "text": [
      "1,2,3,4,5,6,7,8,9,10,\n",
      "The sum of all numbers from 1 to above number  55\n"
     ]
    }
   ],
   "source": [
    "n=int(input(\"n: \"))\n",
    "for i in range(n):\n",
    "    n=n+i\n",
    "    print(i+1,end=',')\n",
    "    \n",
    "print(\"\\nThe sum of all numbers from 1 to above number \",n)\n"
   ]
  },
  {
   "cell_type": "code",
   "execution_count": 57,
   "id": "ee178e57-b28b-4c57-9e48-be6585ce1072",
   "metadata": {},
   "outputs": [
    {
     "name": "stdin",
     "output_type": "stream",
     "text": [
      "n:  13\n"
     ]
    },
    {
     "name": "stdout",
     "output_type": "stream",
     "text": [
      "13\n",
      "26\n",
      "39\n",
      "52\n",
      "65\n",
      "78\n",
      "91\n",
      "104\n",
      "117\n",
      "130\n",
      "\n"
     ]
    }
   ],
   "source": [
    "'''\n",
    "Write a program to print multiplication table of a given number\n",
    "'''\n",
    "n=int(input(\"n: \"))\n",
    "i=11\n",
    "for i in range(1,i):\n",
    "    i=n*i\n",
    "    print(i)\n",
    "    \n",
    "print( )\n"
   ]
  },
  {
   "cell_type": "code",
   "execution_count": 72,
   "id": "335d5051-43d8-4fad-9a00-16d2dabdddac",
   "metadata": {},
   "outputs": [
    {
     "name": "stdout",
     "output_type": "stream",
     "text": [
      "75\n",
      "150\n",
      "145\n"
     ]
    }
   ],
   "source": [
    "'''\n",
    "Write a program to display only those numbers from a list that satisfy the following conditions\n",
    "\n",
    "The number must be divisible by five\n",
    "If the number is greater than 150, then skip it and move to the next number\n",
    "If the number is greater than 500, then stop the loop\n",
    "'''\n",
    "\n",
    "list = [12, 75, 150, 180, 145, 525, 50]\n",
    "for i in list:\n",
    "     if i > 500:\n",
    "         break\n",
    "     elif i > 150:\n",
    "         continue\n",
    "     elif i % 5 ==0:\n",
    "         print(i)\n",
    "     \n",
    "     \n",
    "          \n",
    "    "
   ]
  },
  {
   "cell_type": "code",
   "execution_count": 74,
   "id": "4868b30e-e5bd-44b2-a49f-d752c6f99f36",
   "metadata": {},
   "outputs": [
    {
     "data": {
      "text/plain": [
       "'\\n'"
      ]
     },
     "execution_count": 74,
     "metadata": {},
     "output_type": "execute_result"
    }
   ],
   "source": [
    " '''\n",
    " Count the total number of digits in a number\n",
    " \n",
    " '''\n",
    "\n",
    "n=\n",
    "\n"
   ]
  },
  {
   "cell_type": "code",
   "execution_count": null,
   "id": "50b68378-054c-4ea9-9e67-5cd48c580273",
   "metadata": {},
   "outputs": [],
   "source": [
    "''' Print the following pattern\n",
    "Write a program to use for loop to print the following reverse number pattern\n",
    "\n",
    "5 4 3 2 1 \n",
    "4 3 2 1 \n",
    "3 2 1 \n",
    "2 1 \n",
    "1\n",
    "'''"
   ]
  },
  {
   "cell_type": "code",
   "execution_count": null,
   "id": "3ae75509-fd50-4c1d-940e-88b795892ab6",
   "metadata": {},
   "outputs": [],
   "source": [
    "'''\n",
    "Print list in reverse order using a loop\n",
    "list1 = [10, 20, 30, 40, 50]\n",
    "'''"
   ]
  },
  {
   "cell_type": "code",
   "execution_count": null,
   "id": "908b652b-2e30-4e55-9057-b11023f760ab",
   "metadata": {},
   "outputs": [],
   "source": [
    "'''\n",
    " Display numbers from -10 to -1 using for loop\n",
    "'''"
   ]
  },
  {
   "cell_type": "code",
   "execution_count": null,
   "id": "a49ff21d-1735-407f-8256-108c63ed0fb5",
   "metadata": {},
   "outputs": [],
   "source": [
    "'''\n",
    "10: Use else block to display a message “Done” after successful execution of for loop\n",
    "'''"
   ]
  },
  {
   "cell_type": "code",
   "execution_count": null,
   "id": "7dbccc8b-5e58-4b5c-bd32-f0d9abe7daa2",
   "metadata": {},
   "outputs": [],
   "source": [
    "'''\n",
    ": Write a program to display all prime numbers within a range\n",
    "# range\n",
    "start = 25\n",
    "end = 50\n",
    "'''"
   ]
  },
  {
   "cell_type": "code",
   "execution_count": null,
   "id": "40e7bab9-efc5-4190-ad15-5dd0c67897df",
   "metadata": {},
   "outputs": [],
   "source": [
    "'''\n",
    " Display Fibonacci series up to 10 terms\n",
    "'''"
   ]
  },
  {
   "cell_type": "code",
   "execution_count": null,
   "id": "676ebc68-4f12-4999-8642-72436c4fe1ca",
   "metadata": {},
   "outputs": [],
   "source": [
    "'''\n",
    " Find the factorial of a given number\n",
    "'''"
   ]
  },
  {
   "cell_type": "code",
   "execution_count": null,
   "id": "3e790e0d-641d-4bfa-b978-e9087f346058",
   "metadata": {},
   "outputs": [],
   "source": [
    "'''\n",
    "Reverse a given integer number\n",
    "Given:\n",
    "\n",
    "76542\n",
    "\n",
    "Expected output:\n",
    "\n",
    "24567\n",
    "'''"
   ]
  },
  {
   "cell_type": "code",
   "execution_count": null,
   "id": "fca4caab-c01d-44c3-820c-0f2a5ec603bf",
   "metadata": {},
   "outputs": [],
   "source": [
    "'''\n",
    "Use a loop to display elements from a given list present at odd index positions\n",
    "\n",
    "'''"
   ]
  },
  {
   "cell_type": "code",
   "execution_count": null,
   "id": "ee51e84b-3fe0-41c7-b19d-d54623068429",
   "metadata": {},
   "outputs": [],
   "source": [
    "\n",
    "'''\n",
    "Calculate the cube of all numbers from 1 to a given number\n",
    "Write a program to rint the cube of all numbers from 1 to a given number\n",
    "'''"
   ]
  },
  {
   "cell_type": "code",
   "execution_count": null,
   "id": "96b95a3e-05d4-4091-a077-cf6944f49286",
   "metadata": {},
   "outputs": [],
   "source": [
    "'''\n",
    "Find the sum of the series upto n terms\n",
    "Write a program to calculate the sum of series up to n term. For example,\n",
    "if n =5 the series will become 2 + 22 + 222 + 2222 + 22222 = 24690\n",
    "'''"
   ]
  },
  {
   "cell_type": "code",
   "execution_count": null,
   "id": "4adce87a-35d5-4739-9226-6afcb6c33b83",
   "metadata": {},
   "outputs": [],
   "source": [
    "'''\n",
    "Write a program to print the following start pattern using the for loop\n",
    "\n",
    "* \n",
    "* * \n",
    "* * * \n",
    "* * * * \n",
    "* * * * * \n",
    "* * * * \n",
    "* * * \n",
    "* * \n",
    "*\n",
    "'''\n",
    "\n",
    " "
   ]
  },
  {
   "cell_type": "code",
   "execution_count": null,
   "id": "f6488924-24b7-4991-8780-0b7a06cf6f12",
   "metadata": {},
   "outputs": [],
   "source": [
    "\n",
    "'''\n",
    "\n",
    "\n",
    "'''"
   ]
  },
  {
   "cell_type": "code",
   "execution_count": 82,
   "id": "70ee9132-0114-4dbf-a57c-53493086e28c",
   "metadata": {},
   "outputs": [
    {
     "name": "stdout",
     "output_type": "stream",
     "text": [
      "0,2,4,6,8,"
     ]
    }
   ],
   "source": [
    "for i in range(10):\n",
    "    if i % 2 ==0:\n",
    "        print(i,end=\",\")"
   ]
  },
  {
   "cell_type": "code",
   "execution_count": 92,
   "id": "41a3b5a0-1665-4d1d-a5d2-dd2431bd0480",
   "metadata": {},
   "outputs": [
    {
     "name": "stdout",
     "output_type": "stream",
     "text": [
      "$ $ $ $ \n",
      "$ $ $ $ \n",
      "$ $ $ $ \n",
      "$ $ $ $ \n",
      "\n",
      "\n"
     ]
    }
   ],
   "source": [
    "for i in range(4):\n",
    "    print(\"$ \"*4 )\n",
    "print(\"\\n\")"
   ]
  },
  {
   "cell_type": "code",
   "execution_count": null,
   "id": "f707bcc8-50ee-4f39-b947-1b5a01a13512",
   "metadata": {},
   "outputs": [],
   "source": [
    "#--------------------------------------EXCEPTION IN PYTHON-----------------------------------------------''''"
   ]
  },
  {
   "cell_type": "code",
   "execution_count": 94,
   "id": "afc133df-4340-4733-a6f9-430d41427416",
   "metadata": {},
   "outputs": [
    {
     "ename": "SyntaxError",
     "evalue": "unterminated string literal (detected at line 1) (477811780.py, line 1)",
     "output_type": "error",
     "traceback": [
      "\u001b[1;36m  Cell \u001b[1;32mIn[94], line 1\u001b[1;36m\u001b[0m\n\u001b[1;33m    print(\"Hello)  #it will give error\u001b[0m\n\u001b[1;37m          ^\u001b[0m\n\u001b[1;31mSyntaxError\u001b[0m\u001b[1;31m:\u001b[0m unterminated string literal (detected at line 1)\n"
     ]
    }
   ],
   "source": [
    "print(\"Hello)  #it will give error\n",
    "      "
   ]
  },
  {
   "cell_type": "code",
   "execution_count": 104,
   "id": "042babbd-3268-4af1-921d-5538efa5b1ee",
   "metadata": {},
   "outputs": [
    {
     "name": "stdin",
     "output_type": "stream",
     "text": [
      "what is x ?  c\n"
     ]
    },
    {
     "ename": "ValueError",
     "evalue": "invalid literal for int() with base 10: 'c'",
     "output_type": "error",
     "traceback": [
      "\u001b[1;31m---------------------------------------------------------------------------\u001b[0m",
      "\u001b[1;31mValueError\u001b[0m                                Traceback (most recent call last)",
      "Cell \u001b[1;32mIn[104], line 1\u001b[0m\n\u001b[1;32m----> 1\u001b[0m x \u001b[38;5;241m=\u001b[39m \u001b[38;5;28mint\u001b[39m(\u001b[38;5;28minput\u001b[39m(\u001b[38;5;124m\"\u001b[39m\u001b[38;5;124mwhat is x ? \u001b[39m\u001b[38;5;124m\"\u001b[39m))\n\u001b[0;32m      2\u001b[0m \u001b[38;5;28mprint\u001b[39m(\u001b[38;5;124mf\u001b[39m\u001b[38;5;124m\"\u001b[39m\u001b[38;5;124mx is : \u001b[39m\u001b[38;5;132;01m{\u001b[39;00mx\u001b[38;5;132;01m}\u001b[39;00m\u001b[38;5;124m\"\u001b[39m)\n",
      "\u001b[1;31mValueError\u001b[0m: invalid literal for int() with base 10: 'c'"
     ]
    }
   ],
   "source": [
    "x = int(input(\"what is x ? \"))\n",
    "print(f\"x is : {x}\")"
   ]
  },
  {
   "cell_type": "code",
   "execution_count": 98,
   "id": "4c8f093c-01b5-4df5-b9c7-e9a239fa706a",
   "metadata": {},
   "outputs": [
    {
     "name": "stdin",
     "output_type": "stream",
     "text": [
      "what is x ?  5\n"
     ]
    },
    {
     "name": "stdout",
     "output_type": "stream",
     "text": [
      "x is : 5\n"
     ]
    }
   ],
   "source": [
    "x = int(input(\"what is x ? \"))\n",
    "print( \"x is :\",x)"
   ]
  },
  {
   "cell_type": "code",
   "execution_count": 122,
   "id": "0b135424-70eb-42cc-98d4-331b36ea0359",
   "metadata": {},
   "outputs": [
    {
     "name": "stdin",
     "output_type": "stream",
     "text": [
      "what is x ?  3dscf\n"
     ]
    },
    {
     "name": "stdout",
     "output_type": "stream",
     "text": [
      "x is not an integer\n"
     ]
    }
   ],
   "source": [
    "try:\n",
    "    x = int(input(\"what is x ? \"))\n",
    "    print(f\"x is : {x}\")\n",
    "except ValueError:\n",
    "    print(\"x is not an integer\")"
   ]
  },
  {
   "cell_type": "code",
   "execution_count": 126,
   "id": "2fe7c102-60ad-4728-a789-fc596ff0ecce",
   "metadata": {},
   "outputs": [
    {
     "name": "stdin",
     "output_type": "stream",
     "text": [
      "what is x ?  masdshjd\n"
     ]
    },
    {
     "name": "stdout",
     "output_type": "stream",
     "text": [
      "entered value is not an integer, please enter integer value\n",
      "x is : 324\n"
     ]
    }
   ],
   "source": [
    "#It'll generate name error\n",
    "\n",
    "try:\n",
    "    x = int(input(\"what is x ? \"))\n",
    "    \n",
    "except ValueError:\n",
    "    print(\"entered value is not an integer, please enter integer value\")\n",
    "\n",
    "print(f\"x is : {x}\")\n",
    " "
   ]
  },
  {
   "cell_type": "code",
   "execution_count": 123,
   "id": "4f7c11fb-fae4-4c24-a9de-81530194f23f",
   "metadata": {},
   "outputs": [
    {
     "name": "stdin",
     "output_type": "stream",
     "text": [
      "what is x ?  dsf\n"
     ]
    },
    {
     "name": "stdout",
     "output_type": "stream",
     "text": [
      "entered value is not an integer, please enter integer value\n"
     ]
    }
   ],
   "source": [
    "try:\n",
    "    x = int(input(\"what is x ? \"))\n",
    "    \n",
    "except ValueError:\n",
    "    print(\"entered value is not an integer, please enter integer value\")\n",
    " \n",
    "else:\n",
    "    print(f\"x is : {x}\")"
   ]
  },
  {
   "cell_type": "code",
   "execution_count": 128,
   "id": "a08b3107-dd9a-4629-b1b0-7e8fba024998",
   "metadata": {},
   "outputs": [
    {
     "name": "stdin",
     "output_type": "stream",
     "text": [
      "what is x ?  slkdfji\n"
     ]
    },
    {
     "name": "stdout",
     "output_type": "stream",
     "text": [
      "entered value is not an integer, please enter integer value\n"
     ]
    },
    {
     "name": "stdin",
     "output_type": "stream",
     "text": [
      "what is x ?  dfa\n"
     ]
    },
    {
     "name": "stdout",
     "output_type": "stream",
     "text": [
      "entered value is not an integer, please enter integer value\n"
     ]
    },
    {
     "name": "stdin",
     "output_type": "stream",
     "text": [
      "what is x ?  32\n"
     ]
    },
    {
     "name": "stdout",
     "output_type": "stream",
     "text": [
      "x is : 32\n"
     ]
    }
   ],
   "source": [
    "\n",
    "while True:\n",
    "    \n",
    "    try:\n",
    "        x = int(input(\"what is x ? \"))\n",
    "        \n",
    "    except ValueError:\n",
    "        print(\"entered value is not an integer, please enter integer value\")\n",
    "    \n",
    "    \n",
    "    else:\n",
    "        break\n",
    "\n",
    "print(f\"x is : {x}\")"
   ]
  },
  {
   "cell_type": "code",
   "execution_count": 130,
   "id": "c0f499a5-84e5-4faf-9698-9a81836343c0",
   "metadata": {},
   "outputs": [
    {
     "ename": "KeyboardInterrupt",
     "evalue": "Interrupted by user",
     "output_type": "error",
     "traceback": [
      "\u001b[1;31m---------------------------------------------------------------------------\u001b[0m",
      "\u001b[1;31mKeyboardInterrupt\u001b[0m                         Traceback (most recent call last)",
      "Cell \u001b[1;32mIn[130], line 6\u001b[0m\n\u001b[0;32m      3\u001b[0m \u001b[38;5;28;01mwhile\u001b[39;00m \u001b[38;5;28;01mTrue\u001b[39;00m:\n\u001b[0;32m      5\u001b[0m     \u001b[38;5;28;01mtry\u001b[39;00m:\n\u001b[1;32m----> 6\u001b[0m         x \u001b[38;5;241m=\u001b[39m \u001b[38;5;28mint\u001b[39m(\u001b[38;5;28minput\u001b[39m(\u001b[38;5;124m\"\u001b[39m\u001b[38;5;124mwhat is x ? \u001b[39m\u001b[38;5;124m\"\u001b[39m))\n\u001b[0;32m      8\u001b[0m     \u001b[38;5;28;01mexcept\u001b[39;00m \u001b[38;5;167;01mValueError\u001b[39;00m:\n\u001b[0;32m      9\u001b[0m         \u001b[38;5;28mprint\u001b[39m(\u001b[38;5;124m\"\u001b[39m\u001b[38;5;124mentered value is not an integer, please enter integer value\u001b[39m\u001b[38;5;124m\"\u001b[39m)\n",
      "File \u001b[1;32m~\\anaconda3\\Lib\\site-packages\\ipykernel\\kernelbase.py:1262\u001b[0m, in \u001b[0;36mKernel.raw_input\u001b[1;34m(self, prompt)\u001b[0m\n\u001b[0;32m   1260\u001b[0m     msg \u001b[38;5;241m=\u001b[39m \u001b[38;5;124m\"\u001b[39m\u001b[38;5;124mraw_input was called, but this frontend does not support input requests.\u001b[39m\u001b[38;5;124m\"\u001b[39m\n\u001b[0;32m   1261\u001b[0m     \u001b[38;5;28;01mraise\u001b[39;00m StdinNotImplementedError(msg)\n\u001b[1;32m-> 1262\u001b[0m \u001b[38;5;28;01mreturn\u001b[39;00m \u001b[38;5;28mself\u001b[39m\u001b[38;5;241m.\u001b[39m_input_request(\n\u001b[0;32m   1263\u001b[0m     \u001b[38;5;28mstr\u001b[39m(prompt),\n\u001b[0;32m   1264\u001b[0m     \u001b[38;5;28mself\u001b[39m\u001b[38;5;241m.\u001b[39m_parent_ident[\u001b[38;5;124m\"\u001b[39m\u001b[38;5;124mshell\u001b[39m\u001b[38;5;124m\"\u001b[39m],\n\u001b[0;32m   1265\u001b[0m     \u001b[38;5;28mself\u001b[39m\u001b[38;5;241m.\u001b[39mget_parent(\u001b[38;5;124m\"\u001b[39m\u001b[38;5;124mshell\u001b[39m\u001b[38;5;124m\"\u001b[39m),\n\u001b[0;32m   1266\u001b[0m     password\u001b[38;5;241m=\u001b[39m\u001b[38;5;28;01mFalse\u001b[39;00m,\n\u001b[0;32m   1267\u001b[0m )\n",
      "File \u001b[1;32m~\\anaconda3\\Lib\\site-packages\\ipykernel\\kernelbase.py:1305\u001b[0m, in \u001b[0;36mKernel._input_request\u001b[1;34m(self, prompt, ident, parent, password)\u001b[0m\n\u001b[0;32m   1302\u001b[0m \u001b[38;5;28;01mexcept\u001b[39;00m \u001b[38;5;167;01mKeyboardInterrupt\u001b[39;00m:\n\u001b[0;32m   1303\u001b[0m     \u001b[38;5;66;03m# re-raise KeyboardInterrupt, to truncate traceback\u001b[39;00m\n\u001b[0;32m   1304\u001b[0m     msg \u001b[38;5;241m=\u001b[39m \u001b[38;5;124m\"\u001b[39m\u001b[38;5;124mInterrupted by user\u001b[39m\u001b[38;5;124m\"\u001b[39m\n\u001b[1;32m-> 1305\u001b[0m     \u001b[38;5;28;01mraise\u001b[39;00m \u001b[38;5;167;01mKeyboardInterrupt\u001b[39;00m(msg) \u001b[38;5;28;01mfrom\u001b[39;00m \u001b[38;5;28;01mNone\u001b[39;00m\n\u001b[0;32m   1306\u001b[0m \u001b[38;5;28;01mexcept\u001b[39;00m \u001b[38;5;167;01mException\u001b[39;00m:\n\u001b[0;32m   1307\u001b[0m     \u001b[38;5;28mself\u001b[39m\u001b[38;5;241m.\u001b[39mlog\u001b[38;5;241m.\u001b[39mwarning(\u001b[38;5;124m\"\u001b[39m\u001b[38;5;124mInvalid Message:\u001b[39m\u001b[38;5;124m\"\u001b[39m, exc_info\u001b[38;5;241m=\u001b[39m\u001b[38;5;28;01mTrue\u001b[39;00m)\n",
      "\u001b[1;31mKeyboardInterrupt\u001b[0m: Interrupted by user"
     ]
    }
   ],
   "source": [
    "#go in infinite loop\n",
    "\n",
    "while True:\n",
    "    \n",
    "    try:\n",
    "        x = int(input(\"what is x ? \"))\n",
    "        \n",
    "    except ValueError:\n",
    "        print(\"entered value is not an integer, please enter integer value\")\n",
    "    \n",
    "    \n",
    "    else:\n",
    "        print(f\"x is : {x}\")\n",
    "        "
   ]
  },
  {
   "cell_type": "code",
   "execution_count": 131,
   "id": "e097130d-2390-40ca-bd9c-d2263b3ee358",
   "metadata": {},
   "outputs": [
    {
     "data": {
      "text/plain": [
       "-1"
      ]
     },
     "execution_count": 131,
     "metadata": {},
     "output_type": "execute_result"
    }
   ],
   "source": [
    "3-4\n"
   ]
  },
  {
   "cell_type": "code",
   "execution_count": 132,
   "id": "c9aa5249-358c-40d7-97f4-7da0a09e60f8",
   "metadata": {},
   "outputs": [
    {
     "name": "stdin",
     "output_type": "stream",
     "text": [
      "what is x ?  dds\n"
     ]
    },
    {
     "name": "stdout",
     "output_type": "stream",
     "text": [
      "entered value is not an integer, please enter integer value\n"
     ]
    },
    {
     "name": "stdin",
     "output_type": "stream",
     "text": [
      "what is x ?  23\n"
     ]
    }
   ],
   "source": [
    "while True:\n",
    "    \n",
    "    try:\n",
    "        x = int(input(\"what is x ? \"))\n",
    "        break\n",
    "        \n",
    "    except ValueError:\n",
    "        print(\"entered value is not an integer, please enter integer value\")\n",
    "    \n",
    "    \n",
    "    else:\n",
    "        print(f\"x is : {x}\")"
   ]
  },
  {
   "cell_type": "code",
   "execution_count": 133,
   "id": "bdd17111-67c7-465c-a52d-2a66d262cb22",
   "metadata": {},
   "outputs": [
    {
     "name": "stdin",
     "output_type": "stream",
     "text": [
      "what is x ?  dog\n"
     ]
    },
    {
     "name": "stdout",
     "output_type": "stream",
     "text": [
      "entered value is not an integer, please enter integer value\n"
     ]
    },
    {
     "name": "stdin",
     "output_type": "stream",
     "text": [
      "what is x ?  jnvjf\n"
     ]
    },
    {
     "name": "stdout",
     "output_type": "stream",
     "text": [
      "entered value is not an integer, please enter integer value\n"
     ]
    },
    {
     "name": "stdin",
     "output_type": "stream",
     "text": [
      "what is x ?  dfsg\n"
     ]
    },
    {
     "name": "stdout",
     "output_type": "stream",
     "text": [
      "entered value is not an integer, please enter integer value\n"
     ]
    },
    {
     "name": "stdin",
     "output_type": "stream",
     "text": [
      "what is x ?  sdf\n"
     ]
    },
    {
     "name": "stdout",
     "output_type": "stream",
     "text": [
      "entered value is not an integer, please enter integer value\n"
     ]
    },
    {
     "name": "stdin",
     "output_type": "stream",
     "text": [
      "what is x ?  adv\n"
     ]
    },
    {
     "name": "stdout",
     "output_type": "stream",
     "text": [
      "entered value is not an integer, please enter integer value\n"
     ]
    },
    {
     "name": "stdin",
     "output_type": "stream",
     "text": [
      "what is x ?  34\n"
     ]
    },
    {
     "name": "stdout",
     "output_type": "stream",
     "text": [
      "x is : 34\n"
     ]
    }
   ],
   "source": [
    "def main():\n",
    "    x = get_int()\n",
    "    print(f\"x is : {x}\")\n",
    "\n",
    "def get_int():\n",
    "    while True:\n",
    "        try:\n",
    "            x = int(input(\"what is x ? \"))\n",
    "        except ValueError:\n",
    "            print(\"entered value is not an integer, please enter integer value\")\n",
    "        else:\n",
    "            break\n",
    "    return x\n",
    "\n",
    "main()"
   ]
  },
  {
   "cell_type": "code",
   "execution_count": 134,
   "id": "17ab064f-6ba8-4cda-adcf-2eb4f6cab881",
   "metadata": {},
   "outputs": [
    {
     "name": "stdin",
     "output_type": "stream",
     "text": [
      "what is x ?  erf\n"
     ]
    },
    {
     "name": "stdout",
     "output_type": "stream",
     "text": [
      "entered value is not an integer, please enter integer value\n"
     ]
    },
    {
     "name": "stdin",
     "output_type": "stream",
     "text": [
      "what is x ?  dfcrg\n"
     ]
    },
    {
     "name": "stdout",
     "output_type": "stream",
     "text": [
      "entered value is not an integer, please enter integer value\n"
     ]
    },
    {
     "name": "stdin",
     "output_type": "stream",
     "text": [
      "what is x ?  34\n"
     ]
    },
    {
     "name": "stdout",
     "output_type": "stream",
     "text": [
      "x is : 34\n"
     ]
    }
   ],
   "source": [
    "def main():\n",
    "    x = get_int()\n",
    "    print(f\"x is : {x}\")\n",
    "\n",
    "def get_int():\n",
    "    while True:\n",
    "        try:\n",
    "            x = int(input(\"what is x ? \"))\n",
    "        except ValueError:\n",
    "            print(\"entered value is not an integer, please enter integer value\")\n",
    "        else:\n",
    "            return x\n",
    "\n",
    "main()"
   ]
  },
  {
   "cell_type": "code",
   "execution_count": 135,
   "id": "470960df-00d1-4932-8614-99fecb1a551d",
   "metadata": {},
   "outputs": [
    {
     "name": "stdin",
     "output_type": "stream",
     "text": [
      "what is x ?  ef\n"
     ]
    },
    {
     "name": "stdout",
     "output_type": "stream",
     "text": [
      "entered value is not an integer, please enter integer value\n"
     ]
    },
    {
     "name": "stdin",
     "output_type": "stream",
     "text": [
      "what is x ?  retg\n"
     ]
    },
    {
     "name": "stdout",
     "output_type": "stream",
     "text": [
      "entered value is not an integer, please enter integer value\n"
     ]
    },
    {
     "name": "stdin",
     "output_type": "stream",
     "text": [
      "what is x ?  33\n"
     ]
    },
    {
     "name": "stdout",
     "output_type": "stream",
     "text": [
      "x is : 33\n"
     ]
    }
   ],
   "source": [
    "def main():\n",
    "    x = get_int()\n",
    "    print(f\"x is : {x}\")\n",
    "\n",
    "def get_int():\n",
    "    while True:\n",
    "        try:\n",
    "            x = int(input(\"what is x ? \"))\n",
    "            return x\n",
    "        except ValueError:\n",
    "            print(\"entered value is not an integer, please enter integer value\")\n",
    "        # else:\n",
    "        #     return x\n",
    "\n",
    "main()"
   ]
  },
  {
   "cell_type": "code",
   "execution_count": 137,
   "id": "c7d7e17e-5f0b-476f-ba29-fce8322d9de6",
   "metadata": {},
   "outputs": [
    {
     "name": "stdin",
     "output_type": "stream",
     "text": [
      "what is x ?  erfrf\n"
     ]
    },
    {
     "name": "stdout",
     "output_type": "stream",
     "text": [
      "entered value is not an integer, please enter integer value\n"
     ]
    },
    {
     "name": "stdin",
     "output_type": "stream",
     "text": [
      "what is x ?  egvryh\n"
     ]
    },
    {
     "name": "stdout",
     "output_type": "stream",
     "text": [
      "entered value is not an integer, please enter integer value\n"
     ]
    },
    {
     "name": "stdin",
     "output_type": "stream",
     "text": [
      "what is x ?  srfgv\n"
     ]
    },
    {
     "name": "stdout",
     "output_type": "stream",
     "text": [
      "entered value is not an integer, please enter integer value\n"
     ]
    },
    {
     "name": "stdin",
     "output_type": "stream",
     "text": [
      "what is x ?  34\n"
     ]
    },
    {
     "name": "stdout",
     "output_type": "stream",
     "text": [
      "x is : 34\n"
     ]
    }
   ],
   "source": [
    "def main():\n",
    "    x = get_int()\n",
    "    print(f\"x is : {x}\")\n",
    "\n",
    "def get_int():\n",
    "    while True:\n",
    "        try:\n",
    "            return int(input(\"what is x ? \"))\n",
    "            # return x\n",
    "        except ValueError:\n",
    "            print(\"entered value is not an integer, please enter integer value\")\n",
    "        # else:\n",
    "        #     return x\n",
    "\n",
    "main()"
   ]
  },
  {
   "cell_type": "code",
   "execution_count": 138,
   "id": "27b7773d-30c1-455a-8031-4e2d3f1a72cf",
   "metadata": {},
   "outputs": [
    {
     "name": "stdin",
     "output_type": "stream",
     "text": [
      "what is x ?  fgv\n",
      "what is x ?  dfv\n",
      "what is x ?  dvf\n",
      "what is x ?  3\n"
     ]
    },
    {
     "name": "stdout",
     "output_type": "stream",
     "text": [
      "x is : 3\n"
     ]
    }
   ],
   "source": [
    "def main():\n",
    "    x = get_int()\n",
    "    print(f\"x is : {x}\")\n",
    "\n",
    "def get_int():\n",
    "    while True:\n",
    "        try:\n",
    "            x = int(input(\"what is x ? \"))\n",
    "            return x\n",
    "        except ValueError:\n",
    "            pass\n",
    "            #print(\"entered value is not an integer, please enter integer value\")\n",
    "        # else:\n",
    "        #     return x\n",
    "\n",
    "main()"
   ]
  },
  {
   "cell_type": "code",
   "execution_count": 141,
   "id": "ff8fc5e6-3067-42a2-ae37-a39fd0df85fc",
   "metadata": {},
   "outputs": [
    {
     "name": "stdin",
     "output_type": "stream",
     "text": [
      "what is x ?  jhgbtc\n",
      "what is x ?  nbv hfx\n",
      "what is x ?  z hg\n",
      "what is x ?   nghjnk\n",
      "what is x ?  655\n"
     ]
    },
    {
     "name": "stdout",
     "output_type": "stream",
     "text": [
      "x is : 655\n"
     ]
    }
   ],
   "source": [
    "def main():\n",
    "    x = get_int()\n",
    "    print(f\"x is : {x}\")\n",
    "def get_int():\n",
    "    while True:\n",
    "        try:\n",
    "            return int(input(\"what is x ? \"))      \n",
    "        except ValueError:\n",
    "            pass\n",
    "main()\n",
    "\n",
    "             "
   ]
  },
  {
   "cell_type": "code",
   "execution_count": 142,
   "id": "882d25a6-dce6-4731-937a-d4dbfa67be5c",
   "metadata": {},
   "outputs": [
    {
     "name": "stdin",
     "output_type": "stream",
     "text": [
      "value of x :  rg\n",
      "value of x :  rtt\n",
      "value of x :  45\n"
     ]
    },
    {
     "name": "stdout",
     "output_type": "stream",
     "text": [
      "x is : 45\n"
     ]
    }
   ],
   "source": [
    "def main():\n",
    "    x = get_int(\"value of x : \")\n",
    "    print(f\"x is : {x}\")\n",
    "def get_int(prompt):\n",
    "    while True:\n",
    "        try:\n",
    "            return int(input(prompt))      \n",
    "        except ValueError:\n",
    "            pass\n",
    "main()"
   ]
  },
  {
   "cell_type": "code",
   "execution_count": 6,
   "id": "1e0d8149-0255-41ad-acc8-dbcdc362de49",
   "metadata": {},
   "outputs": [
    {
     "name": "stdout",
     "output_type": "stream",
     "text": [
      "tails\n"
     ]
    }
   ],
   "source": [
    "#docs.pyton.org/3/librery/random.html\n",
    "\n",
    "import random\n",
    "\n",
    "coin=random.choice([\"head\",\"tails\"]) #chosse random value\n",
    "print(coin)"
   ]
  },
  {
   "cell_type": "code",
   "execution_count": null,
   "id": "d4787d7b-97a9-462b-890b-9e2fec50ba5d",
   "metadata": {},
   "outputs": [],
   "source": [
    "# from keyword in python is used for importing function from module "
   ]
  },
  {
   "cell_type": "code",
   "execution_count": 9,
   "id": "7f15885d-37f7-4887-87be-614b84127223",
   "metadata": {},
   "outputs": [
    {
     "name": "stdout",
     "output_type": "stream",
     "text": [
      "tails\n"
     ]
    }
   ],
   "source": [
    "from random import choice\n",
    "\n",
    "coin=random.choice([\"head\",\"tails\"]) #chosse random value\n",
    "print(coin)"
   ]
  },
  {
   "cell_type": "code",
   "execution_count": 12,
   "id": "decd18c0-9eb8-456d-872b-5f5f0404acd7",
   "metadata": {},
   "outputs": [
    {
     "name": "stdout",
     "output_type": "stream",
     "text": [
      "8\n"
     ]
    }
   ],
   "source": [
    "import random\n",
    "\n",
    "num =  random.randint(1,10) #random intigeral value\n",
    "print (num)"
   ]
  },
  {
   "cell_type": "code",
   "execution_count": 16,
   "id": "95e2b2b4-8e57-41fb-93be-0b6db7a1aa69",
   "metadata": {},
   "outputs": [
    {
     "name": "stdout",
     "output_type": "stream",
     "text": [
      "Jack\n",
      "queen\n",
      "king\n"
     ]
    }
   ],
   "source": [
    "import random\n",
    "\n",
    "cards = ['Jack','queen','king']\n",
    "random.shuffle(cards)\n",
    "for card in cards:\n",
    "    print(card)\n"
   ]
  },
  {
   "cell_type": "code",
   "execution_count": 12,
   "id": "c811f607-176e-4b8f-b3cd-90307cb74b56",
   "metadata": {},
   "outputs": [
    {
     "name": "stdin",
     "output_type": "stream",
     "text": [
      "n=  9\n"
     ]
    },
    {
     "name": "stdout",
     "output_type": "stream",
     "text": [
      "# \n",
      "# # \n",
      "# # # \n",
      "# # # # \n",
      "# # # # # \n",
      "# # # # # # \n",
      "# # # # # # # \n",
      "# # # # # # # # \n",
      "# # # # # # # # # \n"
     ]
    }
   ],
   "source": [
    "n=int(input(\"n= \"))\n",
    "for i in range(1,n+1):\n",
    "    for j in range(1,i+1):\n",
    "        print(\"#\",end=\" \")\n",
    "    print()"
   ]
  },
  {
   "cell_type": "code",
   "execution_count": 22,
   "id": "77cd7788-4e39-4977-95a8-9828f8434819",
   "metadata": {},
   "outputs": [
    {
     "name": "stdin",
     "output_type": "stream",
     "text": [
      "n=  5\n"
     ]
    },
    {
     "name": "stdout",
     "output_type": "stream",
     "text": [
      "1 \n",
      "2 2 \n",
      "3 3 3 \n",
      "4 4 4 4 \n",
      "5 5 5 5 5 \n"
     ]
    }
   ],
   "source": [
    "n=int(input(\"n= \"))\n",
    "for i in range( 1,n+1):\n",
    "    for j in range(1,i+1):\n",
    "        print(i,end=\" \")\n",
    "    print()"
   ]
  },
  {
   "cell_type": "code",
   "execution_count": 25,
   "id": "4f35432f-adbd-4d10-a40c-26fc9278f451",
   "metadata": {},
   "outputs": [
    {
     "data": {
      "text/plain": [
       "95"
      ]
     },
     "execution_count": 25,
     "metadata": {},
     "output_type": "execute_result"
    }
   ],
   "source": [
    "#-------------------------Statistics---------------------------------\n",
    "\n",
    "\n",
    "import statistics\n",
    "\n",
    "statistics.mean([100,90])"
   ]
  },
  {
   "cell_type": "code",
   "execution_count": 27,
   "id": "ca181f01-b3a8-4793-b0ea-ce8fa7631606",
   "metadata": {},
   "outputs": [
    {
     "name": "stdout",
     "output_type": "stream",
     "text": [
      "89\n"
     ]
    }
   ],
   "source": [
    "import statistics\n",
    "\n",
    "print(statistics.mean([100,78]))"
   ]
  },
  {
   "cell_type": "code",
   "execution_count": 33,
   "id": "9a1a0516-02ed-44a5-892e-203e05e8a467",
   "metadata": {},
   "outputs": [
    {
     "name": "stdout",
     "output_type": "stream",
     "text": [
      "Helo my name is  -f\n"
     ]
    }
   ],
   "source": [
    "#-----------------------------------------------------Command line argument----------------------------------------------------------\n",
    "#   sys= syste\n",
    "import sys\n",
    "\n",
    "print(\"Helo my name is \", sys.argv[1])"
   ]
  },
  {
   "cell_type": "code",
   "execution_count": 37,
   "id": "d277e607-982b-43da-af2e-8d0dd6c279ec",
   "metadata": {},
   "outputs": [
    {
     "name": "stdout",
     "output_type": "stream",
     "text": [
      "Helo my name is  C:\\Users\\Mona Thakur\\anaconda3\\Lib\\site-packages\\ipykernel_launcher.py\n"
     ]
    }
   ],
   "source": [
    "import sys\n",
    "\n",
    "print(\"Helo my name is \", sys.argv[0])"
   ]
  },
  {
   "cell_type": "code",
   "execution_count": 43,
   "id": "c860c097-3dca-47ab-96c9-6087a0f7c448",
   "metadata": {},
   "outputs": [
    {
     "name": "stdout",
     "output_type": "stream",
     "text": [
      "Helo my name is  -f\n"
     ]
    }
   ],
   "source": [
    "import sys\n",
    "try:\n",
    "    print(\"Helo my name is \", sys.argv[1])\n",
    "except InsexError:\n",
    "    print(\"Too few argument\")\n",
    "    \n",
    "\n"
   ]
  },
  {
   "cell_type": "code",
   "execution_count": 2,
   "id": "e983525d-4260-4f4f-be01-06a0a85c0391",
   "metadata": {},
   "outputs": [
    {
     "name": "stdout",
     "output_type": "stream",
     "text": [
      "too many argument\n"
     ]
    }
   ],
   "source": [
    "import sys\n",
    "\n",
    "if len(sys.argv)<2:\n",
    "    print(\"Too few arguments\")\n",
    "elif len(sys.argv) > 2 :\n",
    "    print(\"too many argument\")\n",
    "else:\n",
    "    print(\"hello, my name is \", sys.argv[0])"
   ]
  },
  {
   "cell_type": "code",
   "execution_count": null,
   "id": "d319efaf-f2da-43cf-9050-bc77c8358bc1",
   "metadata": {},
   "outputs": [],
   "source": [
    "import sys\n",
    "\n",
    "if len(sys.argv)<2:\n",
    "    print(\"Too few arguments\")\n",
    "elif len(sys.argv) > 2 :\n",
    "    print(\"too many argument\")\n",
    "\n",
    "print(\"hello, my name is \", sys.argv[0])"
   ]
  },
  {
   "cell_type": "code",
   "execution_count": 12,
   "id": "31eba997-5106-4117-92d2-bfc5096899cf",
   "metadata": {},
   "outputs": [
    {
     "ename": "SystemExit",
     "evalue": "too many argument ",
     "output_type": "error",
     "traceback": [
      "An exception has occurred, use %tb to see the full traceback.\n",
      "\u001b[1;31mSystemExit\u001b[0m\u001b[1;31m:\u001b[0m too many argument \n"
     ]
    }
   ],
   "source": [
    "import sys\n",
    "\n",
    "if len(sys.argv)<2:\n",
    "    sys.exit(\"Too few arguments  \" )\n",
    "elif len(sys.argv) > 2 :\n",
    "    sys.exit(\"too many argument \")\n",
    "\n",
    "print(\"hello, my name is \", sys.argv[0])"
   ]
  },
  {
   "cell_type": "code",
   "execution_count": null,
   "id": "cc6f1b28-fb7a-4b17-980a-d6382b2e53d4",
   "metadata": {},
   "outputs": [],
   "source": [
    "import sys\n",
    "\n",
    "if len(sys.argv)<2:\n",
    "    sys.exit(\"Too few arguments  \" )\n",
    "elif len(sys.argv) > 2 :\n",
    "    sys.exit(\"too many argument \")\n",
    "\n",
    "print(\"hello, my name is \", sys.argv[0])"
   ]
  },
  {
   "cell_type": "code",
   "execution_count": 13,
   "id": "d1970428-5f0b-4892-9651-03ec1dc45d29",
   "metadata": {},
   "outputs": [
    {
     "name": "stdout",
     "output_type": "stream",
     "text": [
      "hello my name is  C:\\Users\\Mona Thakur\\anaconda3\\Lib\\site-packages\\ipykernel_launcher.py\n",
      "hello my name is  -f\n",
      "hello my name is  C:\\Users\\Mona Thakur\\AppData\\Roaming\\jupyter\\runtime\\kernel-ce261fa4-7640-43a1-9f8a-efd0be060115.json\n"
     ]
    }
   ],
   "source": [
    "import sys\n",
    "\n",
    "if len(sys.argv)<2:\n",
    "    sys.exit(\"Too few arguments  \" )\n",
    "\n",
    "for arg in sys.argv:\n",
    "    print(\"hello my name is \", arg)"
   ]
  },
  {
   "cell_type": "code",
   "execution_count": null,
   "id": "4264433c-5c1f-442e-8525-9058561bafaf",
   "metadata": {},
   "outputs": [],
   "source": [
    "#slice : use to take slice of a list means  subset of list may from begning , from middle, ay from end\n",
    "\n"
   ]
  },
  {
   "cell_type": "code",
   "execution_count": 16,
   "id": "258afc7b-4d5e-433a-b936-cd7b21fe49ae",
   "metadata": {},
   "outputs": [
    {
     "name": "stdout",
     "output_type": "stream",
     "text": [
      "hello my name is  -f\n",
      "hello my name is  C:\\Users\\Mona Thakur\\AppData\\Roaming\\jupyter\\runtime\\kernel-ce261fa4-7640-43a1-9f8a-efd0be060115.json\n"
     ]
    }
   ],
   "source": [
    "import sys\n",
    "\n",
    "if len(sys.argv)<2:\n",
    "    sys.exit(\"Too few arguments  \" )\n",
    "\n",
    "for arg in sys.argv[1:]:\n",
    "    print(\"hello my name is \", arg)"
   ]
  },
  {
   "cell_type": "code",
   "execution_count": 1,
   "id": "35a21fe8-1f5c-4c73-a840-368de5dfac3e",
   "metadata": {},
   "outputs": [
    {
     "ename": "ModuleNotFoundError",
     "evalue": "No module named 'cowsay'",
     "output_type": "error",
     "traceback": [
      "\u001b[1;31m---------------------------------------------------------------------------\u001b[0m",
      "\u001b[1;31mModuleNotFoundError\u001b[0m                       Traceback (most recent call last)",
      "Cell \u001b[1;32mIn[1], line 1\u001b[0m\n\u001b[1;32m----> 1\u001b[0m \u001b[38;5;28;01mimport\u001b[39;00m \u001b[38;5;21;01mcowsay\u001b[39;00m\n\u001b[0;32m      2\u001b[0m \u001b[38;5;28;01mimport\u001b[39;00m \u001b[38;5;21;01msys\u001b[39;00m\n\u001b[0;32m      4\u001b[0m \u001b[38;5;28;01mif\u001b[39;00m \u001b[38;5;28mlen\u001b[39m(sys\u001b[38;5;241m.\u001b[39margv) \u001b[38;5;241m==\u001b[39m \u001b[38;5;241m2\u001b[39m:\n",
      "\u001b[1;31mModuleNotFoundError\u001b[0m: No module named 'cowsay'"
     ]
    }
   ],
   "source": [
    " \n",
    "\n",
    "import cowsay\n",
    "import sys\n",
    "\n",
    "if len(sys.argv) == 2:\n",
    "   cowsay.cow(\"hello, \"+ sys.argv[0])"
   ]
  },
  {
   "cell_type": "code",
   "execution_count": 1,
   "id": "1c0506f8-ed6b-41b4-86f6-fb91a74acfb2",
   "metadata": {},
   "outputs": [
    {
     "name": "stdout",
     "output_type": "stream",
     "text": [
      "^C\n",
      "Collecting cowsay\n",
      "  Using cached cowsay-6.1-py3-none-any.whl.metadata (5.6 kB)\n",
      "Using cached cowsay-6.1-py3-none-any.whl (25 kB)\n",
      "Note: you may need to restart the kernel to use updated packages.\n"
     ]
    }
   ],
   "source": [
    "pip install cowsay"
   ]
  },
  {
   "cell_type": "code",
   "execution_count": 2,
   "id": "5744f4a5-5e9c-4695-bac0-b6c070b9a087",
   "metadata": {},
   "outputs": [
    {
     "name": "stdout",
     "output_type": "stream",
     "text": [
      "Requirement already satisfied: cowsay in c:\\users\\mona thakur\\anaconda3\\lib\\site-packages (6.1)\n",
      "Note: you may need to restart the kernel to use updated packages.\n"
     ]
    }
   ],
   "source": [
    "pip install cowsay\n"
   ]
  },
  {
   "cell_type": "code",
   "execution_count": 7,
   "id": "bf0bbdcf-60e6-4eca-bfab-4c81e362a2d3",
   "metadata": {},
   "outputs": [],
   "source": [
    "import cowsay\n",
    "import sys\n",
    "\n",
    "if len(sys.argv) == 2:\n",
    "   cowsay.cow(\"hello, \"+ sys.argv[7])\n",
    "\n",
    " "
   ]
  },
  {
   "cell_type": "code",
   "execution_count": 8,
   "id": "b9a43c97-76c2-4c82-9496-1641d3c27d66",
   "metadata": {},
   "outputs": [
    {
     "name": "stdout",
     "output_type": "stream",
     "text": [
      "^C\n",
      "Requirement already satisfied: requests in c:\\users\\mona thakur\\anaconda3\\lib\\site-packages (2.31.0)\n",
      "Requirement already satisfied: charset-normalizer<4,>=2 in c:\\users\\mona thakur\\anaconda3\\lib\\site-packages (from requests) (2.0.4)\n",
      "Requirement already satisfied: idna<4,>=2.5 in c:\\users\\mona thakur\\anaconda3\\lib\\site-packages (from requests) (3.4)\n",
      "Requirement already satisfied: urllib3<3,>=1.21.1 in c:\\users\\mona thakur\\anaconda3\\lib\\site-packages (from requests) (2.0.7)\n",
      "Requirement already satisfied: certifi>=2017.4.17 in c:\\users\\mona thakur\\anaconda3\\lib\\site-packages (from requests) (2024.2.2)\n",
      "Note: you may need to restart the kernel to use updated packages.\n"
     ]
    }
   ],
   "source": [
    "pip install requests\n"
   ]
  },
  {
   "cell_type": "code",
   "execution_count": 1,
   "id": "0cd0fd42-2f71-42d4-9089-4648ceb656ce",
   "metadata": {},
   "outputs": [
    {
     "ename": "SystemExit",
     "evalue": "",
     "output_type": "error",
     "traceback": [
      "An exception has occurred, use %tb to see the full traceback.\n",
      "\u001b[1;31mSystemExit\u001b[0m\n"
     ]
    },
    {
     "name": "stderr",
     "output_type": "stream",
     "text": [
      "C:\\Users\\Mona Thakur\\anaconda3\\Lib\\site-packages\\IPython\\core\\interactiveshell.py:3561: UserWarning: To exit: use 'exit', 'quit', or Ctrl-D.\n",
      "  warn(\"To exit: use 'exit', 'quit', or Ctrl-D.\", stacklevel=1)\n"
     ]
    }
   ],
   "source": [
    "import requests\n",
    "import sys\n",
    "\n",
    "if len(sys.argv) != 2:\n",
    "   sys.exit()\n",
    "   \n",
    "   \n",
    "response = requests.get(\"https://itunesconnect.apple.com/search?entity=song&limit=1&term= \" + sys.argv[1])\n",
    "\n",
    "print(response.json())"
   ]
  },
  {
   "cell_type": "code",
   "execution_count": 2,
   "id": "20393343-8a14-440a-847a-56b5dbd9bf99",
   "metadata": {},
   "outputs": [
    {
     "name": "stdin",
     "output_type": "stream",
     "text": [
      "value of x :  4\n"
     ]
    },
    {
     "name": "stdout",
     "output_type": "stream",
     "text": [
      "x square is  16\n"
     ]
    }
   ],
   "source": [
    "def main():\n",
    "   x = int(input(\"value of x : \"))\n",
    "   print(\"x square is \", square(x))\n",
    "   \n",
    "def square(n):\n",
    "   return n*n\n",
    "\n",
    "main()"
   ]
  },
  {
   "cell_type": "code",
   "execution_count": 3,
   "id": "5334108f-03b0-45e1-a03d-3308866c8f1b",
   "metadata": {},
   "outputs": [
    {
     "ename": "ModuleNotFoundError",
     "evalue": "No module named 'calc'",
     "output_type": "error",
     "traceback": [
      "\u001b[1;31m---------------------------------------------------------------------------\u001b[0m",
      "\u001b[1;31mModuleNotFoundError\u001b[0m                       Traceback (most recent call last)",
      "Cell \u001b[1;32mIn[3], line 1\u001b[0m\n\u001b[1;32m----> 1\u001b[0m \u001b[38;5;28;01mfrom\u001b[39;00m \u001b[38;5;21;01mcalc\u001b[39;00m \u001b[38;5;28;01mimport\u001b[39;00m square\n\u001b[0;32m      3\u001b[0m \u001b[38;5;28;01mdef\u001b[39;00m \u001b[38;5;21mmain\u001b[39m():\n\u001b[0;32m      4\u001b[0m    test_square()\n",
      "\u001b[1;31mModuleNotFoundError\u001b[0m: No module named 'calc'"
     ]
    }
   ],
   "source": [
    "from calc import square\n",
    "\n",
    "def main():\n",
    "   test_square()\n",
    "\n",
    "def test_square():\n",
    "   if square(2) != 4:\n",
    "      print(\"2 square was not 4\")\n",
    "   if square(3) != 9:\n",
    "      print(\"3 square was not 9\")\n",
    "      \n",
    "      \n",
    "if __name__ == \"__main__\":\n",
    "   main()\n",
    "   "
   ]
  },
  {
   "cell_type": "code",
   "execution_count": null,
   "id": "5346db28-d9b3-4278-bc8b-6eaed99f9140",
   "metadata": {},
   "outputs": [],
   "source": []
  },
  {
   "cell_type": "code",
   "execution_count": null,
   "id": "3c63e866-50d7-4fdb-a885-03d6f25ef7b7",
   "metadata": {},
   "outputs": [],
   "source": []
  },
  {
   "cell_type": "code",
   "execution_count": null,
   "id": "e3438fce-fca6-42d6-8849-0c98050bfec6",
   "metadata": {},
   "outputs": [],
   "source": []
  },
  {
   "cell_type": "code",
   "execution_count": null,
   "id": "00c27a65-493d-4fee-a474-c0d2f137171b",
   "metadata": {},
   "outputs": [],
   "source": []
  },
  {
   "cell_type": "code",
   "execution_count": null,
   "id": "527a1163-3c81-4b8b-9113-46dc98bf759e",
   "metadata": {},
   "outputs": [],
   "source": []
  },
  {
   "cell_type": "code",
   "execution_count": null,
   "id": "fc6de1af-4a7e-41a4-82b8-789dfde8dd2a",
   "metadata": {},
   "outputs": [],
   "source": []
  },
  {
   "cell_type": "code",
   "execution_count": null,
   "id": "98f3dada-f4d0-4dec-81f1-9dd1dacecca2",
   "metadata": {},
   "outputs": [],
   "source": []
  },
  {
   "cell_type": "code",
   "execution_count": null,
   "id": "c33a0a95-fa84-41ba-b3f0-95470dee82b1",
   "metadata": {},
   "outputs": [],
   "source": []
  },
  {
   "cell_type": "code",
   "execution_count": null,
   "id": "42c938bf-80b8-4de1-87a2-4c622b9de3cd",
   "metadata": {},
   "outputs": [],
   "source": []
  },
  {
   "cell_type": "code",
   "execution_count": null,
   "id": "94115b02-a663-4671-a423-48d524bddeb5",
   "metadata": {},
   "outputs": [],
   "source": [
    "'''\n",
    "'''"
   ]
  },
  {
   "cell_type": "code",
   "execution_count": null,
   "id": "a76bb5b2-2c2f-4bbd-8662-34731f43cbcb",
   "metadata": {},
   "outputs": [],
   "source": [
    "'''\n",
    "'''\n"
   ]
  },
  {
   "cell_type": "code",
   "execution_count": null,
   "id": "7bbb2501-0b63-44ba-95c6-cbce2116e6e9",
   "metadata": {},
   "outputs": [],
   "source": [
    "'''\n",
    "'''"
   ]
  },
  {
   "cell_type": "code",
   "execution_count": null,
   "id": "12c419b0-9240-48d9-b025-1b2b1f368181",
   "metadata": {},
   "outputs": [],
   "source": [
    "'''\n",
    "'''"
   ]
  },
  {
   "cell_type": "code",
   "execution_count": null,
   "id": "b12e3db4-45f5-4616-b591-f721f6f10a1d",
   "metadata": {},
   "outputs": [],
   "source": [
    "'''\n",
    "'''"
   ]
  },
  {
   "cell_type": "code",
   "execution_count": null,
   "id": "1353a751-c97e-44ec-888c-1753d46795a8",
   "metadata": {},
   "outputs": [],
   "source": [
    "'''\n",
    "'''"
   ]
  },
  {
   "cell_type": "code",
   "execution_count": null,
   "id": "d54332c3-acaa-43ec-989e-af14dc123a06",
   "metadata": {},
   "outputs": [],
   "source": [
    "'''\n",
    "'''"
   ]
  }
 ],
 "metadata": {
  "kernelspec": {
   "display_name": "Python 3 (ipykernel)",
   "language": "python",
   "name": "python3"
  },
  "language_info": {
   "codemirror_mode": {
    "name": "ipython",
    "version": 3
   },
   "file_extension": ".py",
   "mimetype": "text/x-python",
   "name": "python",
   "nbconvert_exporter": "python",
   "pygments_lexer": "ipython3",
   "version": "3.11.7"
  }
 },
 "nbformat": 4,
 "nbformat_minor": 5
}
